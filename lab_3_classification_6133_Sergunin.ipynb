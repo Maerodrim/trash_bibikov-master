{
 "cells": [
  {
   "cell_type": "markdown",
   "metadata": {
    "id": "ApFfrTgt9yET"
   },
   "source": [
    "# Лабораторная работа №3 по курсу \"Интеллектуальный анализ данных\"."
   ]
  },
  {
   "cell_type": "code",
   "execution_count": 56,
   "metadata": {
    "id": "c7iRAgpX_fQE"
   },
   "outputs": [],
   "source": [
    "import pandas as pd\n",
    "import numpy as np\n",
    "import matplotlib.pyplot as plt \n",
    "import seaborn as sns \n",
    "sns.set_style(\"darkgrid\")\n",
    "\n",
    "from sklearn.model_selection import StratifiedKFold\n",
    "from sklearn.model_selection import GridSearchCV\n",
    "from sklearn.model_selection import train_test_split\n",
    "from sklearn.metrics import classification_report,confusion_matrix\n",
    "from sklearn.tree import DecisionTreeClassifier\n",
    "from sklearn.model_selection import cross_val_score\n",
    "\n",
    "import warnings\n",
    "import sys  \n",
    "if not sys.warnoptions:\n",
    "    warnings.simplefilter(\"ignore\")"
   ]
  },
  {
   "cell_type": "code",
   "execution_count": 72,
   "metadata": {
    "colab": {
     "base_uri": "https://localhost:8080/"
    },
    "id": "lYS1e_J7_i6R",
    "outputId": "0d9419e6-bfb6-4d57-cd4b-a99295d69b9a"
   },
   "outputs": [],
   "source": [
    "anime = 'data/anime.csv'\n",
    "rating = 'data/rating.csv'\n",
    "data = pd.read_csv(anime)"
   ]
  },
  {
   "cell_type": "code",
   "execution_count": 73,
   "metadata": {
    "colab": {
     "base_uri": "https://localhost:8080/",
     "height": 363
    },
    "id": "hM9xJzUiEjVj",
    "outputId": "9b1d7dc8-a338-428d-d3ec-97571784baa3"
   },
   "outputs": [
    {
     "data": {
      "text/html": [
       "<div>\n",
       "<style scoped>\n",
       "    .dataframe tbody tr th:only-of-type {\n",
       "        vertical-align: middle;\n",
       "    }\n",
       "\n",
       "    .dataframe tbody tr th {\n",
       "        vertical-align: top;\n",
       "    }\n",
       "\n",
       "    .dataframe thead th {\n",
       "        text-align: right;\n",
       "    }\n",
       "</style>\n",
       "<table border=\"1\" class=\"dataframe\">\n",
       "  <thead>\n",
       "    <tr style=\"text-align: right;\">\n",
       "      <th></th>\n",
       "      <th>anime_id</th>\n",
       "      <th>name</th>\n",
       "      <th>genre</th>\n",
       "      <th>type</th>\n",
       "      <th>episodes</th>\n",
       "      <th>rating</th>\n",
       "      <th>members</th>\n",
       "    </tr>\n",
       "  </thead>\n",
       "  <tbody>\n",
       "    <tr>\n",
       "      <th>0</th>\n",
       "      <td>32281</td>\n",
       "      <td>Kimi no Na wa.</td>\n",
       "      <td>Drama, Romance, School, Supernatural</td>\n",
       "      <td>Movie</td>\n",
       "      <td>1</td>\n",
       "      <td>9.37</td>\n",
       "      <td>200630</td>\n",
       "    </tr>\n",
       "    <tr>\n",
       "      <th>1</th>\n",
       "      <td>5114</td>\n",
       "      <td>Fullmetal Alchemist: Brotherhood</td>\n",
       "      <td>Action, Adventure, Drama, Fantasy, Magic, Mili...</td>\n",
       "      <td>TV</td>\n",
       "      <td>64</td>\n",
       "      <td>9.26</td>\n",
       "      <td>793665</td>\n",
       "    </tr>\n",
       "    <tr>\n",
       "      <th>2</th>\n",
       "      <td>28977</td>\n",
       "      <td>Gintama°</td>\n",
       "      <td>Action, Comedy, Historical, Parody, Samurai, S...</td>\n",
       "      <td>TV</td>\n",
       "      <td>51</td>\n",
       "      <td>9.25</td>\n",
       "      <td>114262</td>\n",
       "    </tr>\n",
       "    <tr>\n",
       "      <th>3</th>\n",
       "      <td>9253</td>\n",
       "      <td>Steins;Gate</td>\n",
       "      <td>Sci-Fi, Thriller</td>\n",
       "      <td>TV</td>\n",
       "      <td>24</td>\n",
       "      <td>9.17</td>\n",
       "      <td>673572</td>\n",
       "    </tr>\n",
       "    <tr>\n",
       "      <th>4</th>\n",
       "      <td>9969</td>\n",
       "      <td>Gintama&amp;#039;</td>\n",
       "      <td>Action, Comedy, Historical, Parody, Samurai, S...</td>\n",
       "      <td>TV</td>\n",
       "      <td>51</td>\n",
       "      <td>9.16</td>\n",
       "      <td>151266</td>\n",
       "    </tr>\n",
       "    <tr>\n",
       "      <th>5</th>\n",
       "      <td>32935</td>\n",
       "      <td>Haikyuu!!: Karasuno Koukou VS Shiratorizawa Ga...</td>\n",
       "      <td>Comedy, Drama, School, Shounen, Sports</td>\n",
       "      <td>TV</td>\n",
       "      <td>10</td>\n",
       "      <td>9.15</td>\n",
       "      <td>93351</td>\n",
       "    </tr>\n",
       "    <tr>\n",
       "      <th>6</th>\n",
       "      <td>11061</td>\n",
       "      <td>Hunter x Hunter (2011)</td>\n",
       "      <td>Action, Adventure, Shounen, Super Power</td>\n",
       "      <td>TV</td>\n",
       "      <td>148</td>\n",
       "      <td>9.13</td>\n",
       "      <td>425855</td>\n",
       "    </tr>\n",
       "    <tr>\n",
       "      <th>7</th>\n",
       "      <td>820</td>\n",
       "      <td>Ginga Eiyuu Densetsu</td>\n",
       "      <td>Drama, Military, Sci-Fi, Space</td>\n",
       "      <td>OVA</td>\n",
       "      <td>110</td>\n",
       "      <td>9.11</td>\n",
       "      <td>80679</td>\n",
       "    </tr>\n",
       "    <tr>\n",
       "      <th>8</th>\n",
       "      <td>15335</td>\n",
       "      <td>Gintama Movie: Kanketsu-hen - Yorozuya yo Eien...</td>\n",
       "      <td>Action, Comedy, Historical, Parody, Samurai, S...</td>\n",
       "      <td>Movie</td>\n",
       "      <td>1</td>\n",
       "      <td>9.10</td>\n",
       "      <td>72534</td>\n",
       "    </tr>\n",
       "    <tr>\n",
       "      <th>9</th>\n",
       "      <td>15417</td>\n",
       "      <td>Gintama&amp;#039;: Enchousen</td>\n",
       "      <td>Action, Comedy, Historical, Parody, Samurai, S...</td>\n",
       "      <td>TV</td>\n",
       "      <td>13</td>\n",
       "      <td>9.11</td>\n",
       "      <td>81109</td>\n",
       "    </tr>\n",
       "  </tbody>\n",
       "</table>\n",
       "</div>"
      ],
      "text/plain": [
       "   anime_id                                               name  \\\n",
       "0     32281                                     Kimi no Na wa.   \n",
       "1      5114                   Fullmetal Alchemist: Brotherhood   \n",
       "2     28977                                           Gintama°   \n",
       "3      9253                                        Steins;Gate   \n",
       "4      9969                                      Gintama&#039;   \n",
       "5     32935  Haikyuu!!: Karasuno Koukou VS Shiratorizawa Ga...   \n",
       "6     11061                             Hunter x Hunter (2011)   \n",
       "7       820                               Ginga Eiyuu Densetsu   \n",
       "8     15335  Gintama Movie: Kanketsu-hen - Yorozuya yo Eien...   \n",
       "9     15417                           Gintama&#039;: Enchousen   \n",
       "\n",
       "                                               genre   type episodes  rating  \\\n",
       "0               Drama, Romance, School, Supernatural  Movie        1    9.37   \n",
       "1  Action, Adventure, Drama, Fantasy, Magic, Mili...     TV       64    9.26   \n",
       "2  Action, Comedy, Historical, Parody, Samurai, S...     TV       51    9.25   \n",
       "3                                   Sci-Fi, Thriller     TV       24    9.17   \n",
       "4  Action, Comedy, Historical, Parody, Samurai, S...     TV       51    9.16   \n",
       "5             Comedy, Drama, School, Shounen, Sports     TV       10    9.15   \n",
       "6            Action, Adventure, Shounen, Super Power     TV      148    9.13   \n",
       "7                     Drama, Military, Sci-Fi, Space    OVA      110    9.11   \n",
       "8  Action, Comedy, Historical, Parody, Samurai, S...  Movie        1    9.10   \n",
       "9  Action, Comedy, Historical, Parody, Samurai, S...     TV       13    9.11   \n",
       "\n",
       "   members  \n",
       "0   200630  \n",
       "1   793665  \n",
       "2   114262  \n",
       "3   673572  \n",
       "4   151266  \n",
       "5    93351  \n",
       "6   425855  \n",
       "7    80679  \n",
       "8    72534  \n",
       "9    81109  "
      ]
     },
     "execution_count": 73,
     "metadata": {},
     "output_type": "execute_result"
    }
   ],
   "source": [
    "data.head(10)"
   ]
  },
  {
   "cell_type": "code",
   "execution_count": 74,
   "metadata": {
    "colab": {
     "base_uri": "https://localhost:8080/",
     "height": 405
    },
    "id": "-xUohTD4E506",
    "outputId": "79f3e3da-922e-45e4-815e-9eaa3579b2ad"
   },
   "outputs": [
    {
     "data": {
      "image/png": "[encoded data removed]",
      "text/plain": [
       "<Figure size 1800x360 with 1 Axes>"
      ]
     },
     "metadata": {},
     "output_type": "display_data"
    }
   ],
   "source": [
    "fig, ax = plt.subplots(figsize=(25,5))\n",
    "sns.countplot(data['rating'], palette='winter')\n",
    "ax.set(title='Рейтинг аниме')\n",
    "plt.show()"
   ]
  },
  {
   "cell_type": "markdown",
   "metadata": {
    "id": "tm-zrRgGjZes"
   },
   "source": [
    "#### Проверка пропущенных значений."
   ]
  },
  {
   "cell_type": "code",
   "execution_count": 75,
   "metadata": {
    "colab": {
     "base_uri": "https://localhost:8080/"
    },
    "id": "dPE1rEIyE8EC",
    "outputId": "6cf1d108-1b25-46d2-f850-ad128c5549f5"
   },
   "outputs": [
    {
     "data": {
      "text/plain": [
       "anime_id      0\n",
       "name          0\n",
       "genre        62\n",
       "type         25\n",
       "episodes      0\n",
       "rating      230\n",
       "members       0\n",
       "dtype: int64"
      ]
     },
     "execution_count": 75,
     "metadata": {},
     "output_type": "execute_result"
    }
   ],
   "source": [
    "data.isna().sum()"
   ]
  },
  {
   "cell_type": "markdown",
   "metadata": {
    "id": "GuT42qSRjlCL"
   },
   "source": [
    "#### Заполним пропущенные значения."
   ]
  },
  {
   "cell_type": "code",
   "execution_count": 76,
   "metadata": {
    "id": "431EReKIFILC"
   },
   "outputs": [],
   "source": [
    "data.genre = data.genre.fillna(\"None\")\n",
    "data.type = data.type.fillna(\"None\")\n",
    "data.rating = data.rating.fillna(data.rating.mean())"
   ]
  },
  {
   "cell_type": "markdown",
   "metadata": {
    "id": "cwEJ_l2DjxOx"
   },
   "source": [
    "#### Контрольная проверка пропущенных значений."
   ]
  },
  {
   "cell_type": "code",
   "execution_count": 77,
   "metadata": {
    "colab": {
     "base_uri": "https://localhost:8080/"
    },
    "id": "Qi6Vi8QvFKSa",
    "outputId": "9afce1c3-7e61-4165-b633-bbf0fd0afa07"
   },
   "outputs": [
    {
     "data": {
      "text/plain": [
       "anime_id    0\n",
       "name        0\n",
       "genre       0\n",
       "type        0\n",
       "episodes    0\n",
       "rating      0\n",
       "members     0\n",
       "dtype: int64"
      ]
     },
     "execution_count": 77,
     "metadata": {},
     "output_type": "execute_result"
    }
   ],
   "source": [
    "data.isna().sum()"
   ]
  },
  {
   "cell_type": "markdown",
   "metadata": {
    "id": "LTXBO8uZiXc0"
   },
   "source": [
    "#### Посмотрим корреляцию между признаками:"
   ]
  },
  {
   "cell_type": "code",
   "execution_count": 87,
   "metadata": {
    "colab": {
     "base_uri": "https://localhost:8080/",
     "height": 597
    },
    "id": "1KOsYMhzFMqx",
    "outputId": "fe0c416d-fea6-44e6-8bf2-7bcbcc340421"
   },
   "outputs": [
    {
     "data": {
      "text/html": [
       "<div>\n",
       "<style scoped>\n",
       "    .dataframe tbody tr th:only-of-type {\n",
       "        vertical-align: middle;\n",
       "    }\n",
       "\n",
       "    .dataframe tbody tr th {\n",
       "        vertical-align: top;\n",
       "    }\n",
       "\n",
       "    .dataframe thead th {\n",
       "        text-align: right;\n",
       "    }\n",
       "</style>\n",
       "<table border=\"1\" class=\"dataframe\">\n",
       "  <thead>\n",
       "    <tr style=\"text-align: right;\">\n",
       "      <th></th>\n",
       "      <th>Column Name</th>\n",
       "      <th>Column Type</th>\n",
       "    </tr>\n",
       "  </thead>\n",
       "  <tbody>\n",
       "    <tr>\n",
       "      <th>0</th>\n",
       "      <td>anime_id</td>\n",
       "      <td>int64</td>\n",
       "    </tr>\n",
       "    <tr>\n",
       "      <th>1</th>\n",
       "      <td>episodes</td>\n",
       "      <td>object</td>\n",
       "    </tr>\n",
       "    <tr>\n",
       "      <th>2</th>\n",
       "      <td>rating</td>\n",
       "      <td>float64</td>\n",
       "    </tr>\n",
       "    <tr>\n",
       "      <th>3</th>\n",
       "      <td>members</td>\n",
       "      <td>int64</td>\n",
       "    </tr>\n",
       "  </tbody>\n",
       "</table>\n",
       "</div>"
      ],
      "text/plain": [
       "  Column Name Column Type\n",
       "0    anime_id       int64\n",
       "1    episodes      object\n",
       "2      rating     float64\n",
       "3     members       int64"
      ]
     },
     "execution_count": 87,
     "metadata": {},
     "output_type": "execute_result"
    }
   ],
   "source": [
    "data_new = pd.read_csv(anime)\n",
    "data_new.pop('name')\n",
    "data_new.pop('genre')\n",
    "data_new.pop('type')\n",
    "data_new.rating = data.rating.fillna(data.rating.mean())\n",
    "#data_new[\"new_episodes\"] = pd.to_numeric(data_new[\"episodes\"].astype(str).str.replace(r\"[^\\d\\-]\", \"\"), errors=\"coerce\")\n",
    "#data_new[\"new_members\"] = pd.to_numeric(data_new[\"members\"].astype(str).str.replace(r\"[^\\d\\-]\", \"\"), errors=\"coerce\")\n",
    "data_new = pd.DataFrame.from_dict(data_new)\n",
    "pd.DataFrame([data_new.columns, data.dtypes], index=['Column Name', 'Column Type']).T\n",
    "#data_new['new_members'] = data_new['new_members'].astype('new_episodes').cat.codes"
   ]
  },
  {
   "cell_type": "code",
   "execution_count": 88,
   "metadata": {},
   "outputs": [
    {
     "data": {
      "text/html": [
       "<div>\n",
       "<style scoped>\n",
       "    .dataframe tbody tr th:only-of-type {\n",
       "        vertical-align: middle;\n",
       "    }\n",
       "\n",
       "    .dataframe tbody tr th {\n",
       "        vertical-align: top;\n",
       "    }\n",
       "\n",
       "    .dataframe thead th {\n",
       "        text-align: right;\n",
       "    }\n",
       "</style>\n",
       "<table border=\"1\" class=\"dataframe\">\n",
       "  <thead>\n",
       "    <tr style=\"text-align: right;\">\n",
       "      <th></th>\n",
       "      <th>anime_id</th>\n",
       "      <th>episodes</th>\n",
       "      <th>rating</th>\n",
       "      <th>members</th>\n",
       "    </tr>\n",
       "  </thead>\n",
       "  <tbody>\n",
       "    <tr>\n",
       "      <th>0</th>\n",
       "      <td>32281</td>\n",
       "      <td>1</td>\n",
       "      <td>9.37</td>\n",
       "      <td>200630</td>\n",
       "    </tr>\n",
       "    <tr>\n",
       "      <th>1</th>\n",
       "      <td>5114</td>\n",
       "      <td>64</td>\n",
       "      <td>9.26</td>\n",
       "      <td>793665</td>\n",
       "    </tr>\n",
       "    <tr>\n",
       "      <th>2</th>\n",
       "      <td>28977</td>\n",
       "      <td>51</td>\n",
       "      <td>9.25</td>\n",
       "      <td>114262</td>\n",
       "    </tr>\n",
       "    <tr>\n",
       "      <th>3</th>\n",
       "      <td>9253</td>\n",
       "      <td>24</td>\n",
       "      <td>9.17</td>\n",
       "      <td>673572</td>\n",
       "    </tr>\n",
       "    <tr>\n",
       "      <th>4</th>\n",
       "      <td>9969</td>\n",
       "      <td>51</td>\n",
       "      <td>9.16</td>\n",
       "      <td>151266</td>\n",
       "    </tr>\n",
       "    <tr>\n",
       "      <th>5</th>\n",
       "      <td>32935</td>\n",
       "      <td>10</td>\n",
       "      <td>9.15</td>\n",
       "      <td>93351</td>\n",
       "    </tr>\n",
       "    <tr>\n",
       "      <th>6</th>\n",
       "      <td>11061</td>\n",
       "      <td>148</td>\n",
       "      <td>9.13</td>\n",
       "      <td>425855</td>\n",
       "    </tr>\n",
       "    <tr>\n",
       "      <th>7</th>\n",
       "      <td>820</td>\n",
       "      <td>110</td>\n",
       "      <td>9.11</td>\n",
       "      <td>80679</td>\n",
       "    </tr>\n",
       "    <tr>\n",
       "      <th>8</th>\n",
       "      <td>15335</td>\n",
       "      <td>1</td>\n",
       "      <td>9.10</td>\n",
       "      <td>72534</td>\n",
       "    </tr>\n",
       "    <tr>\n",
       "      <th>9</th>\n",
       "      <td>15417</td>\n",
       "      <td>13</td>\n",
       "      <td>9.11</td>\n",
       "      <td>81109</td>\n",
       "    </tr>\n",
       "  </tbody>\n",
       "</table>\n",
       "</div>"
      ],
      "text/plain": [
       "   anime_id episodes  rating  members\n",
       "0     32281        1    9.37   200630\n",
       "1      5114       64    9.26   793665\n",
       "2     28977       51    9.25   114262\n",
       "3      9253       24    9.17   673572\n",
       "4      9969       51    9.16   151266\n",
       "5     32935       10    9.15    93351\n",
       "6     11061      148    9.13   425855\n",
       "7       820      110    9.11    80679\n",
       "8     15335        1    9.10    72534\n",
       "9     15417       13    9.11    81109"
      ]
     },
     "execution_count": 88,
     "metadata": {},
     "output_type": "execute_result"
    }
   ],
   "source": [
    "data_new.head(10)"
   ]
  },
  {
   "cell_type": "code",
   "execution_count": 89,
   "metadata": {},
   "outputs": [
    {
     "data": {
      "text/plain": [
       "anime_id    0\n",
       "episodes    0\n",
       "rating      0\n",
       "members     0\n",
       "dtype: int64"
      ]
     },
     "execution_count": 89,
     "metadata": {},
     "output_type": "execute_result"
    }
   ],
   "source": [
    "data_new.isna().sum()"
   ]
  },
  {
   "cell_type": "code",
   "execution_count": 90,
   "metadata": {},
   "outputs": [
    {
     "data": {
      "image/png": "[encoded data removed]",
      "text/plain": [
       "<Figure size 720x720 with 2 Axes>"
      ]
     },
     "metadata": {},
     "output_type": "display_data"
    }
   ],
   "source": [
    "corr = data_new.corr(method='spearman')\n",
    "mask = np.zeros_like(corr, dtype=np.bool)\n",
    "mask[np.triu_indices_from(mask)] = True\n",
    "f, ax = plt.subplots(figsize=(10, 10))\n",
    "cmap = sns.diverging_palette(220, 10, 30, as_cmap=True)\n",
    "sns.heatmap(corr, \n",
    "            mask=mask, \n",
    "            cmap=cmap, \n",
    "            square=True, \n",
    "            linewidths=.5, \n",
    "            cbar_kws={\"shrink\": .5},\n",
    "            annot=True)\n",
    "plt.show()"
   ]
  },
  {
   "cell_type": "markdown",
   "metadata": {
    "id": "jUnVK3Rej7S9"
   },
   "source": [
    "### Описание функций для поиска гиперпараметров и вывода результатов."
   ]
  },
  {
   "cell_type": "code",
   "execution_count": 91,
   "metadata": {
    "id": "M2pWsVePFe7a"
   },
   "outputs": [],
   "source": [
    "# параметры для дерева решений\n",
    "params = dict(max_depth = np.linspace(1, 32, 32, endpoint=True), \n",
    "                      min_samples_split = np.linspace(0.01, 0.1, 10, endpoint=True),\n",
    "                      min_samples_leaf = np.linspace(0.01, 0.1, 10, endpoint=True)\n",
    "                      )\n",
    "\n",
    "# поиск лучших гиперпараметров\n",
    "def do_grid_search(model,params, x_train, y_train, x_test, refit='accuracy'):\n",
    "    cv = StratifiedKFold(n_splits=5, random_state=42, shuffle=True)\n",
    "    grid_search = GridSearchCV(model, params, scoring=['accuracy'], \n",
    "                                n_jobs=4, cv=cv, verbose=3, refit=refit) \n",
    "    grid_search.fit(x_train.values, y_train.values)\n",
    "    y_pred = grid_search.predict(x_test.values)\n",
    "    print('Best params for {}'.format(refit))\n",
    "    print(grid_search.best_params_)\n",
    "\n",
    "# вывод результата\n",
    "def print_result(y_test, pred=None):\n",
    "  print(\"результат классификации: \\n\", classification_report(y_test, pred))\n",
    "  conf_matrix = confusion_matrix(y_test, pred)\n",
    "  print(\"Матрица ошибок: \\n\", conf_matrix, \"\\n\")\n",
    "  sns.heatmap(conf_matrix, cmap = cmap, annot=True)\n",
    "  plt.show()"
   ]
  },
  {
   "cell_type": "markdown",
   "metadata": {
    "id": "8MB9Y1UTkUYV"
   },
   "source": [
    "### Разделение данных на обучающую и тестовую выборки."
   ]
  },
  {
   "cell_type": "code",
   "execution_count": 92,
   "metadata": {
    "id": "n734EnZVFiLa"
   },
   "outputs": [],
   "source": [
    "X_train, X_test, y_train, y_test = train_test_split(data_new.drop('episodes',axis=1), data_new['episodes'], test_size=0.6, random_state=42)"
   ]
  },
  {
   "cell_type": "markdown",
   "metadata": {
    "id": "1z29U1TPkgX9"
   },
   "source": [
    "### Классификация без настройки гиперпараметров"
   ]
  },
  {
   "cell_type": "code",
   "execution_count": 93,
   "metadata": {
    "colab": {
     "base_uri": "https://localhost:8080/",
     "height": 734
    },
    "id": "2lieznRgFkKD",
    "outputId": "e4d16889-4161-4d70-9635-848aabd4aaaf"
   },
   "outputs": [
    {
     "name": "stdout",
     "output_type": "stream",
     "text": [
      "результат классификации: \n",
      "               precision    recall  f1-score   support\n",
      "\n",
      "           1       0.58      0.53      0.56      3457\n",
      "          10       0.02      0.03      0.03        71\n",
      "         100       0.00      0.00      0.00         7\n",
      "         101       0.00      0.00      0.00         3\n",
      "         102       0.00      0.00      0.00         2\n",
      "         103       0.00      0.00      0.00         3\n",
      "         104       0.00      0.00      0.00         9\n",
      "         105       0.00      0.00      0.00         3\n",
      "         108       0.00      0.00      0.00         1\n",
      "         109       0.00      0.00      0.00         2\n",
      "          11       0.00      0.00      0.00        46\n",
      "         110       0.00      0.00      0.00         1\n",
      "         112       0.00      0.00      0.00         2\n",
      "         113       0.00      0.00      0.00         0\n",
      "         114       0.00      0.00      0.00         2\n",
      "         115       0.00      0.00      0.00         1\n",
      "         117       0.00      0.00      0.00         1\n",
      "         119       0.00      0.00      0.00         1\n",
      "          12       0.29      0.34      0.32       475\n",
      "         120       0.00      0.00      0.00         0\n",
      "         124       0.00      0.00      0.00         1\n",
      "         127       0.00      0.00      0.00         2\n",
      "        1274       0.00      0.00      0.00         1\n",
      "         128       0.00      0.00      0.00         1\n",
      "          13       0.08      0.09      0.09       343\n",
      "         130       0.00      0.00      0.00         3\n",
      "        1306       0.00      0.00      0.00         1\n",
      "         132       0.00      0.00      0.00         0\n",
      "         136       0.00      0.00      0.00         1\n",
      "         137       0.00      0.00      0.00         0\n",
      "          14       0.00      0.00      0.00        15\n",
      "         140       0.00      0.00      0.00         2\n",
      "         141       0.00      0.00      0.00         1\n",
      "         142       0.00      0.00      0.00         2\n",
      "        1428       0.00      0.00      0.00         1\n",
      "         143       0.00      0.00      0.00         2\n",
      "         145       0.00      0.00      0.00         1\n",
      "         147       0.00      0.00      0.00         0\n",
      "        1471       0.00      0.00      0.00         1\n",
      "         148       0.00      0.00      0.00         1\n",
      "          15       0.00      0.00      0.00        10\n",
      "         150       0.00      0.00      0.00         0\n",
      "         153       0.00      0.00      0.00         2\n",
      "         154       0.00      0.00      0.00         0\n",
      "         155       0.00      0.00      0.00         0\n",
      "         156       0.00      0.00      0.00         7\n",
      "        1565       0.00      0.00      0.00         1\n",
      "          16       0.04      0.05      0.05        19\n",
      "         161       0.00      0.00      0.00         1\n",
      "         163       0.00      0.00      0.00         1\n",
      "         164       0.00      0.00      0.00         2\n",
      "          17       0.00      0.00      0.00         2\n",
      "         170       0.00      0.00      0.00         3\n",
      "         175       0.00      0.00      0.00         1\n",
      "         178       0.00      0.00      0.00         0\n",
      "          18       0.00      0.00      0.00         8\n",
      "         180       0.00      0.00      0.00         1\n",
      "        1818       0.00      0.00      0.00         0\n",
      "         182       0.00      0.00      0.00         1\n",
      "          19       0.00      0.00      0.00         2\n",
      "         191       0.00      0.00      0.00         0\n",
      "         192       0.00      0.00      0.00         0\n",
      "         193       0.00      0.00      0.00         1\n",
      "         195       0.00      0.00      0.00         2\n",
      "         199       0.00      0.00      0.00         0\n",
      "           2       0.17      0.21      0.19       603\n",
      "          20       0.00      0.00      0.00        25\n",
      "         200       0.00      0.00      0.00         2\n",
      "         201       0.00      0.00      0.00         1\n",
      "         203       0.00      0.00      0.00         1\n",
      "          21       0.00      0.00      0.00        10\n",
      "          22       0.00      0.00      0.00        23\n",
      "         220       0.00      0.00      0.00         1\n",
      "         224       0.00      0.00      0.00         1\n",
      "         225       0.00      0.00      0.00         2\n",
      "          23       0.00      0.00      0.00        19\n",
      "         237       0.00      0.00      0.00         1\n",
      "          24       0.06      0.05      0.06       115\n",
      "         240       0.00      0.00      0.00         1\n",
      "         243       0.00      0.00      0.00         1\n",
      "          25       0.02      0.02      0.02       104\n",
      "          26       0.09      0.09      0.09       310\n",
      "         260       0.00      0.00      0.00         1\n",
      "          27       0.00      0.00      0.00         8\n",
      "         276       0.00      0.00      0.00         1\n",
      "          28       0.00      0.00      0.00         5\n",
      "         283       0.00      0.00      0.00         1\n",
      "          29       0.00      0.00      0.00         7\n",
      "         291       0.00      0.00      0.00         0\n",
      "         296       0.00      0.00      0.00         2\n",
      "           3       0.06      0.07      0.07       278\n",
      "          30       0.00      0.00      0.00        12\n",
      "         305       0.00      0.00      0.00         1\n",
      "          31       0.00      0.00      0.00         6\n",
      "         312       0.00      0.00      0.00         2\n",
      "          32       0.00      0.00      0.00         8\n",
      "          33       0.00      0.00      0.00         6\n",
      "         331       0.00      0.00      0.00         1\n",
      "          34       0.00      0.00      0.00         9\n",
      "          35       0.00      0.00      0.00        12\n",
      "         358       0.00      0.00      0.00         0\n",
      "          36       0.00      0.00      0.00         4\n",
      "         365       0.00      0.00      0.00         1\n",
      "         366       0.00      0.00      0.00         1\n",
      "          37       0.00      0.00      0.00         7\n",
      "         373       0.00      0.00      0.00         0\n",
      "          38       0.00      0.00      0.00        12\n",
      "          39       0.02      0.02      0.02        60\n",
      "           4       0.04      0.05      0.05       186\n",
      "          40       0.00      0.00      0.00        11\n",
      "          41       0.00      0.00      0.00         6\n",
      "          42       0.00      0.00      0.00         5\n",
      "          43       0.00      0.00      0.00        11\n",
      "          44       0.00      0.00      0.00         4\n",
      "          45       0.00      0.00      0.00        11\n",
      "          46       0.00      0.00      0.00        11\n",
      "          47       0.00      0.00      0.00        16\n",
      "         475       0.00      0.00      0.00         1\n",
      "          48       0.17      0.04      0.07        23\n",
      "          49       0.00      0.00      0.00        21\n",
      "           5       0.01      0.01      0.01        75\n",
      "          50       0.03      0.02      0.02        52\n",
      "          51       0.03      0.03      0.03        61\n",
      "         510       0.00      0.00      0.00         1\n",
      "          52       0.06      0.08      0.07       104\n",
      "          53       0.00      0.00      0.00         4\n",
      "          54       0.00      0.00      0.00         4\n",
      "          55       0.00      0.00      0.00         1\n",
      "          56       0.00      0.00      0.00         2\n",
      "          58       0.00      0.00      0.00         2\n",
      "          59       0.00      0.00      0.00         4\n",
      "           6       0.04      0.04      0.04       158\n",
      "          60       0.00      0.00      0.00         6\n",
      "          61       0.00      0.00      0.00         5\n",
      "          62       0.00      0.00      0.00         0\n",
      "          63       0.00      0.00      0.00         3\n",
      "          64       0.00      0.00      0.00         3\n",
      "          65       0.00      0.00      0.00         7\n",
      "          66       0.00      0.00      0.00         1\n",
      "          67       0.00      0.00      0.00         1\n",
      "          68       0.00      0.00      0.00         0\n",
      "          69       0.00      0.00      0.00         1\n",
      "         694       0.00      0.00      0.00         1\n",
      "           7       0.00      0.00      0.00        44\n",
      "          70       0.00      0.00      0.00         2\n",
      "          71       0.00      0.00      0.00         0\n",
      "          72       0.00      0.00      0.00         3\n",
      "         726       0.00      0.00      0.00         1\n",
      "          73       0.00      0.00      0.00         5\n",
      "          74       0.00      0.00      0.00         4\n",
      "          75       0.00      0.00      0.00         5\n",
      "          76       0.00      0.00      0.00         3\n",
      "          77       0.00      0.00      0.00         3\n",
      "         773       0.00      0.00      0.00         1\n",
      "          78       0.00      0.00      0.00         6\n",
      "          79       0.00      0.00      0.00         1\n",
      "           8       0.00      0.00      0.00        37\n",
      "          80       0.00      0.00      0.00         2\n",
      "          83       0.00      0.00      0.00         1\n",
      "          84       0.00      0.00      0.00         2\n",
      "          86       0.00      0.00      0.00         1\n",
      "          87       0.00      0.00      0.00         1\n",
      "          88       0.00      0.00      0.00         1\n",
      "           9       0.00      0.00      0.00        27\n",
      "          90       0.00      0.00      0.00         1\n",
      "          91       0.00      0.00      0.00         1\n",
      "          92       0.00      0.00      0.00         0\n",
      "          93       0.00      0.00      0.00         1\n",
      "          94       0.00      0.00      0.00         2\n",
      "          95       0.00      0.00      0.00         1\n",
      "          96       0.00      0.00      0.00         2\n",
      "          97       0.00      0.00      0.00         2\n",
      "          98       0.00      0.00      0.00         1\n",
      "          99       0.00      0.00      0.00         2\n",
      "     Unknown       0.31      0.26      0.28       217\n",
      "\n",
      "    accuracy                           0.31      7377\n",
      "   macro avg       0.01      0.01      0.01      7377\n",
      "weighted avg       0.33      0.31      0.32      7377\n",
      "\n",
      "Матрица ошибок: \n",
      " [[1839   38    2 ...    0    0   75]\n",
      " [  36    2    0 ...    0    0    0]\n",
      " [   4    0    0 ...    0    0    0]\n",
      " ...\n",
      " [   0    0    0 ...    0    0    0]\n",
      " [   1    0    0 ...    0    0    0]\n",
      " [  96    6    0 ...    0    0   57]] \n",
      "\n"
     ]
    },
    {
     "data": {
      "image/png": "[encoded data removed]",
      "text/plain": [
       "<Figure size 432x288 with 2 Axes>"
      ]
     },
     "metadata": {},
     "output_type": "display_data"
    },
    {
     "name": "stdout",
     "output_type": "stream",
     "text": [
      "Средняя точность без настройки гиперпараметров:  0.2975384379988256\n"
     ]
    }
   ],
   "source": [
    "dtree = DecisionTreeClassifier(random_state=42)\n",
    "dtree.fit(X_train, y_train)\n",
    "predictions = dtree.predict(X_test)\n",
    "\n",
    "print_result(y_test=y_test, pred=predictions)\n",
    "score = cross_val_score(dtree, X_train, y_train, cv=5, scoring='accuracy')\n",
    "print('Средняя точность без настройки гиперпараметров: ', np.mean(score))"
   ]
  },
  {
   "cell_type": "markdown",
   "metadata": {
    "id": "BldEnpR-41WT"
   },
   "source": [
    "Точность низковата, предположим что настройка гиперпараметров даст улучшение."
   ]
  },
  {
   "cell_type": "markdown",
   "metadata": {
    "id": "cJMgCSv3kw6d"
   },
   "source": [
    "### Классификация с настройкой гиперпараметров"
   ]
  },
  {
   "cell_type": "code",
   "execution_count": 94,
   "metadata": {
    "colab": {
     "base_uri": "https://localhost:8080/"
    },
    "id": "h0fmmZ9qFnxK",
    "outputId": "df9c9526-8d69-4da7-ed58-bbff071ba212"
   },
   "outputs": [
    {
     "name": "stdout",
     "output_type": "stream",
     "text": [
      "Fitting 5 folds for each of 3200 candidates, totalling 16000 fits\n",
      "Best params for accuracy\n",
      "{'max_depth': 3.0, 'min_samples_leaf': 0.030000000000000006, 'min_samples_split': 0.01}\n"
     ]
    }
   ],
   "source": [
    "do_grid_search(model=dtree,  params=params, x_train=X_train, y_train=y_train, x_test=X_test)"
   ]
  },
  {
   "cell_type": "code",
   "execution_count": 95,
   "metadata": {
    "colab": {
     "base_uri": "https://localhost:8080/",
     "height": 858
    },
    "id": "p15mRU1PF5MS",
    "outputId": "2d732b4d-8150-423f-ea5b-97e7b0fbd6d2"
   },
   "outputs": [
    {
     "name": "stdout",
     "output_type": "stream",
     "text": [
      "результат классификации: \n",
      "               precision    recall  f1-score   support\n",
      "\n",
      "           1       0.50      0.97      0.66      3457\n",
      "          10       0.00      0.00      0.00        71\n",
      "         100       0.00      0.00      0.00         7\n",
      "         101       0.00      0.00      0.00         3\n",
      "         102       0.00      0.00      0.00         2\n",
      "         103       0.00      0.00      0.00         3\n",
      "         104       0.00      0.00      0.00         9\n",
      "         105       0.00      0.00      0.00         3\n",
      "         108       0.00      0.00      0.00         1\n",
      "         109       0.00      0.00      0.00         2\n",
      "          11       0.00      0.00      0.00        46\n",
      "         110       0.00      0.00      0.00         1\n",
      "         112       0.00      0.00      0.00         2\n",
      "         114       0.00      0.00      0.00         2\n",
      "         115       0.00      0.00      0.00         1\n",
      "         117       0.00      0.00      0.00         1\n",
      "         119       0.00      0.00      0.00         1\n",
      "          12       0.35      0.50      0.42       475\n",
      "         124       0.00      0.00      0.00         1\n",
      "         127       0.00      0.00      0.00         2\n",
      "        1274       0.00      0.00      0.00         1\n",
      "         128       0.00      0.00      0.00         1\n",
      "          13       0.00      0.00      0.00       343\n",
      "         130       0.00      0.00      0.00         3\n",
      "        1306       0.00      0.00      0.00         1\n",
      "         136       0.00      0.00      0.00         1\n",
      "          14       0.00      0.00      0.00        15\n",
      "         140       0.00      0.00      0.00         2\n",
      "         141       0.00      0.00      0.00         1\n",
      "         142       0.00      0.00      0.00         2\n",
      "        1428       0.00      0.00      0.00         1\n",
      "         143       0.00      0.00      0.00         2\n",
      "         145       0.00      0.00      0.00         1\n",
      "        1471       0.00      0.00      0.00         1\n",
      "         148       0.00      0.00      0.00         1\n",
      "          15       0.00      0.00      0.00        10\n",
      "         153       0.00      0.00      0.00         2\n",
      "         156       0.00      0.00      0.00         7\n",
      "        1565       0.00      0.00      0.00         1\n",
      "          16       0.00      0.00      0.00        19\n",
      "         161       0.00      0.00      0.00         1\n",
      "         163       0.00      0.00      0.00         1\n",
      "         164       0.00      0.00      0.00         2\n",
      "          17       0.00      0.00      0.00         2\n",
      "         170       0.00      0.00      0.00         3\n",
      "         175       0.00      0.00      0.00         1\n",
      "          18       0.00      0.00      0.00         8\n",
      "         180       0.00      0.00      0.00         1\n",
      "         182       0.00      0.00      0.00         1\n",
      "          19       0.00      0.00      0.00         2\n",
      "         193       0.00      0.00      0.00         1\n",
      "         195       0.00      0.00      0.00         2\n",
      "           2       0.00      0.00      0.00       603\n",
      "          20       0.00      0.00      0.00        25\n",
      "         200       0.00      0.00      0.00         2\n",
      "         201       0.00      0.00      0.00         1\n",
      "         203       0.00      0.00      0.00         1\n",
      "          21       0.00      0.00      0.00        10\n",
      "          22       0.00      0.00      0.00        23\n",
      "         220       0.00      0.00      0.00         1\n",
      "         224       0.00      0.00      0.00         1\n",
      "         225       0.00      0.00      0.00         2\n",
      "          23       0.00      0.00      0.00        19\n",
      "         237       0.00      0.00      0.00         1\n",
      "          24       0.00      0.00      0.00       115\n",
      "         240       0.00      0.00      0.00         1\n",
      "         243       0.00      0.00      0.00         1\n",
      "          25       0.00      0.00      0.00       104\n",
      "          26       0.00      0.00      0.00       310\n",
      "         260       0.00      0.00      0.00         1\n",
      "          27       0.00      0.00      0.00         8\n",
      "         276       0.00      0.00      0.00         1\n",
      "          28       0.00      0.00      0.00         5\n",
      "         283       0.00      0.00      0.00         1\n",
      "          29       0.00      0.00      0.00         7\n",
      "         296       0.00      0.00      0.00         2\n",
      "           3       0.00      0.00      0.00       278\n",
      "          30       0.00      0.00      0.00        12\n",
      "         305       0.00      0.00      0.00         1\n",
      "          31       0.00      0.00      0.00         6\n",
      "         312       0.00      0.00      0.00         2\n",
      "          32       0.00      0.00      0.00         8\n",
      "          33       0.00      0.00      0.00         6\n",
      "         331       0.00      0.00      0.00         1\n",
      "          34       0.00      0.00      0.00         9\n",
      "          35       0.00      0.00      0.00        12\n",
      "          36       0.00      0.00      0.00         4\n",
      "         365       0.00      0.00      0.00         1\n",
      "         366       0.00      0.00      0.00         1\n",
      "          37       0.00      0.00      0.00         7\n",
      "          38       0.00      0.00      0.00        12\n",
      "          39       0.00      0.00      0.00        60\n",
      "           4       0.00      0.00      0.00       186\n",
      "          40       0.00      0.00      0.00        11\n",
      "          41       0.00      0.00      0.00         6\n",
      "          42       0.00      0.00      0.00         5\n",
      "          43       0.00      0.00      0.00        11\n",
      "          44       0.00      0.00      0.00         4\n",
      "          45       0.00      0.00      0.00        11\n",
      "          46       0.00      0.00      0.00        11\n",
      "          47       0.00      0.00      0.00        16\n",
      "         475       0.00      0.00      0.00         1\n",
      "          48       0.00      0.00      0.00        23\n",
      "          49       0.00      0.00      0.00        21\n",
      "           5       0.00      0.00      0.00        75\n",
      "          50       0.00      0.00      0.00        52\n",
      "          51       0.00      0.00      0.00        61\n",
      "         510       0.00      0.00      0.00         1\n",
      "          52       0.00      0.00      0.00       104\n",
      "          53       0.00      0.00      0.00         4\n",
      "          54       0.00      0.00      0.00         4\n",
      "          55       0.00      0.00      0.00         1\n",
      "          56       0.00      0.00      0.00         2\n",
      "          58       0.00      0.00      0.00         2\n",
      "          59       0.00      0.00      0.00         4\n",
      "           6       0.00      0.00      0.00       158\n",
      "          60       0.00      0.00      0.00         6\n",
      "          61       0.00      0.00      0.00         5\n",
      "          63       0.00      0.00      0.00         3\n",
      "          64       0.00      0.00      0.00         3\n",
      "          65       0.00      0.00      0.00         7\n",
      "          66       0.00      0.00      0.00         1\n",
      "          67       0.00      0.00      0.00         1\n",
      "          69       0.00      0.00      0.00         1\n",
      "         694       0.00      0.00      0.00         1\n",
      "           7       0.00      0.00      0.00        44\n",
      "          70       0.00      0.00      0.00         2\n",
      "          72       0.00      0.00      0.00         3\n",
      "         726       0.00      0.00      0.00         1\n",
      "          73       0.00      0.00      0.00         5\n",
      "          74       0.00      0.00      0.00         4\n",
      "          75       0.00      0.00      0.00         5\n",
      "          76       0.00      0.00      0.00         3\n",
      "          77       0.00      0.00      0.00         3\n",
      "         773       0.00      0.00      0.00         1\n",
      "          78       0.00      0.00      0.00         6\n",
      "          79       0.00      0.00      0.00         1\n",
      "           8       0.00      0.00      0.00        37\n",
      "          80       0.00      0.00      0.00         2\n",
      "          83       0.00      0.00      0.00         1\n",
      "          84       0.00      0.00      0.00         2\n",
      "          86       0.00      0.00      0.00         1\n",
      "          87       0.00      0.00      0.00         1\n",
      "          88       0.00      0.00      0.00         1\n",
      "           9       0.00      0.00      0.00        27\n",
      "          90       0.00      0.00      0.00         1\n",
      "          91       0.00      0.00      0.00         1\n",
      "          93       0.00      0.00      0.00         1\n",
      "          94       0.00      0.00      0.00         2\n",
      "          95       0.00      0.00      0.00         1\n",
      "          96       0.00      0.00      0.00         2\n",
      "          97       0.00      0.00      0.00         2\n",
      "          98       0.00      0.00      0.00         1\n",
      "          99       0.00      0.00      0.00         2\n",
      "     Unknown       0.00      0.00      0.00       217\n",
      "\n",
      "    accuracy                           0.49      7377\n",
      "   macro avg       0.01      0.01      0.01      7377\n",
      "weighted avg       0.26      0.49      0.34      7377\n",
      "\n",
      "Матрица ошибок: \n",
      " [[3344    0    0 ...    0    0    0]\n",
      " [  56    0    0 ...    0    0    0]\n",
      " [   7    0    0 ...    0    0    0]\n",
      " ...\n",
      " [   1    0    0 ...    0    0    0]\n",
      " [   2    0    0 ...    0    0    0]\n",
      " [ 199    0    0 ...    0    0    0]] \n",
      "\n"
     ]
    },
    {
     "data": {
      "image/png": "[encoded data removed]",
      "text/plain": [
       "<Figure size 432x288 with 2 Axes>"
      ]
     },
     "metadata": {},
     "output_type": "display_data"
    },
    {
     "name": "stdout",
     "output_type": "stream",
     "text": [
      "Средняя точность с настройкой гиперпараметров GridSearch:  0.4594260973128551\n"
     ]
    }
   ],
   "source": [
    "dtree_grid = DecisionTreeClassifier(random_state=42, max_depth=4.0, min_samples_leaf=0.01, min_samples_split=0.01)\n",
    "\n",
    "print_result(y_test=y_test, pred=dtree_grid.fit(X_train, y_train).predict(X_test))\n",
    "score = cross_val_score(dtree_grid, X_train, y_train, cv=5, scoring='accuracy')\n",
    "print('Средняя точность с настройкой гиперпараметров GridSearch: ', np.mean(score))"
   ]
  },
  {
   "cell_type": "markdown",
   "metadata": {
    "id": "sOsfbDQolDae"
   },
   "source": [
    "### Оценка точности классификаций тестовой и обучающей выборок."
   ]
  },
  {
   "cell_type": "code",
   "execution_count": 96,
   "metadata": {
    "id": "Wk6JmkAtGvOE"
   },
   "outputs": [],
   "source": [
    "from sklearn.metrics import accuracy_score\n",
    "\n",
    "max_depth = np.linspace(1, 32, 32, endpoint=True)\n",
    "accuracy_result = []\n",
    "cv_result = []\n",
    "for md in max_depth:\n",
    "  model = DecisionTreeClassifier(random_state=42, max_depth=md)\n",
    "  model.fit(X_train ,y_train)\n",
    "  model_pred = model.predict(X_test)\n",
    "  accuracy_result.append(accuracy_score(y_test, model_pred))\n",
    "  scores = cross_val_score(model, X_train, y_train, cv=5)\n",
    "  cv_result.append(np.mean(scores))"
   ]
  },
  {
   "cell_type": "code",
   "execution_count": 97,
   "metadata": {
    "colab": {
     "base_uri": "https://localhost:8080/",
     "height": 295
    },
    "id": "GSP5ioitGx7L",
    "outputId": "2540ac50-4151-45c7-e4d8-c3c73c4f32ec"
   },
   "outputs": [
    {
     "data": {
      "image/png": "[encoded data removed]",
      "text/plain": [
       "<Figure size 432x288 with 1 Axes>"
      ]
     },
     "metadata": {},
     "output_type": "display_data"
    }
   ],
   "source": [
    "plt.plot(max_depth, accuracy_result, color='b', label='Accuracy')\n",
    "plt.plot(max_depth, cv_result, color='r', label='CV accuracy')\n",
    "plt.title('Train-Test accuracy vs CV accuracy')\n",
    "plt.xlabel('max depth'); plt.ylabel('accuracy')\n",
    "plt.legend()\n",
    "plt.show()"
   ]
  },
  {
   "cell_type": "code",
   "execution_count": 98,
   "metadata": {
    "id": "Dju-TyZbG4tC"
   },
   "outputs": [],
   "source": [
    "accuracy_result_train, accuracy_result_test = [],[]\n",
    "for md in max_depth:\n",
    "  model = DecisionTreeClassifier(random_state=42, max_depth=md)\n",
    "  model.fit(X_train ,y_train)\n",
    "  model_pred = model.predict(X_train)\n",
    "  accuracy_result_train.append(accuracy_score(y_train, model_pred))\n",
    "\n",
    "  model.fit(X_test ,y_test)\n",
    "  model_pred = model.predict(X_test)\n",
    "  accuracy_result_test.append(accuracy_score(y_test, model_pred))"
   ]
  },
  {
   "cell_type": "code",
   "execution_count": 99,
   "metadata": {
    "colab": {
     "base_uri": "https://localhost:8080/",
     "height": 295
    },
    "id": "wKUabVhlG7La",
    "outputId": "c195588d-3f7c-469d-aac8-23a9a3f708af"
   },
   "outputs": [
    {
     "data": {
      "image/png": "[encoded data removed]",
      "text/plain": [
       "<Figure size 432x288 with 1 Axes>"
      ]
     },
     "metadata": {},
     "output_type": "display_data"
    }
   ],
   "source": [
    "plt.plot(max_depth, accuracy_result_test, color='b', label='Test')\n",
    "plt.plot(max_depth, accuracy_result_train, color='r', label='Train')\n",
    "plt.title('Train vs Test accuracy')\n",
    "plt.xlabel('max depth'); plt.ylabel('accuracy')\n",
    "plt.legend()\n",
    "plt.show()"
   ]
  },
  {
   "cell_type": "markdown",
   "metadata": {
    "id": "kYKthpB3lWYm"
   },
   "source": [
    "### Классификация с использованием масштабирования признаков"
   ]
  },
  {
   "cell_type": "code",
   "execution_count": 100,
   "metadata": {
    "id": "eukZnVV_HDq7"
   },
   "outputs": [],
   "source": [
    "from sklearn.preprocessing import StandardScaler\n",
    "\n",
    "scaler = StandardScaler()\n",
    "X_train_scaled = scaler.fit_transform(X_train)\n",
    "X_test_scaled = scaler.transform(X_test)"
   ]
  },
  {
   "cell_type": "code",
   "execution_count": 101,
   "metadata": {
    "colab": {
     "base_uri": "https://localhost:8080/",
     "height": 734
    },
    "id": "nB6vveclHGIz",
    "outputId": "461d68c6-668e-47d7-de86-6784c643633b"
   },
   "outputs": [
    {
     "name": "stdout",
     "output_type": "stream",
     "text": [
      "результат классификации: \n",
      "               precision    recall  f1-score   support\n",
      "\n",
      "           1       0.58      0.53      0.56      3457\n",
      "          10       0.02      0.03      0.03        71\n",
      "         100       0.00      0.00      0.00         7\n",
      "         101       0.00      0.00      0.00         3\n",
      "         102       0.00      0.00      0.00         2\n",
      "         103       0.00      0.00      0.00         3\n",
      "         104       0.00      0.00      0.00         9\n",
      "         105       0.00      0.00      0.00         3\n",
      "         108       0.00      0.00      0.00         1\n",
      "         109       0.00      0.00      0.00         2\n",
      "          11       0.00      0.00      0.00        46\n",
      "         110       0.00      0.00      0.00         1\n",
      "         112       0.00      0.00      0.00         2\n",
      "         113       0.00      0.00      0.00         0\n",
      "         114       0.00      0.00      0.00         2\n",
      "         115       0.00      0.00      0.00         1\n",
      "         117       0.00      0.00      0.00         1\n",
      "         119       0.00      0.00      0.00         1\n",
      "          12       0.29      0.34      0.31       475\n",
      "         120       0.00      0.00      0.00         0\n",
      "         124       0.00      0.00      0.00         1\n",
      "         127       0.00      0.00      0.00         2\n",
      "        1274       0.00      0.00      0.00         1\n",
      "         128       0.00      0.00      0.00         1\n",
      "          13       0.08      0.09      0.09       343\n",
      "         130       0.00      0.00      0.00         3\n",
      "        1306       0.00      0.00      0.00         1\n",
      "         132       0.00      0.00      0.00         0\n",
      "         136       0.00      0.00      0.00         1\n",
      "         137       0.00      0.00      0.00         0\n",
      "          14       0.00      0.00      0.00        15\n",
      "         140       0.00      0.00      0.00         2\n",
      "         141       0.00      0.00      0.00         1\n",
      "         142       0.00      0.00      0.00         2\n",
      "        1428       0.00      0.00      0.00         1\n",
      "         143       0.00      0.00      0.00         2\n",
      "         145       0.00      0.00      0.00         1\n",
      "         147       0.00      0.00      0.00         0\n",
      "        1471       0.00      0.00      0.00         1\n",
      "         148       0.00      0.00      0.00         1\n",
      "          15       0.00      0.00      0.00        10\n",
      "         150       0.00      0.00      0.00         0\n",
      "         153       0.00      0.00      0.00         2\n",
      "         154       0.00      0.00      0.00         0\n",
      "         155       0.00      0.00      0.00         0\n",
      "         156       0.00      0.00      0.00         7\n",
      "        1565       0.00      0.00      0.00         1\n",
      "          16       0.04      0.05      0.05        19\n",
      "         161       0.00      0.00      0.00         1\n",
      "         163       0.00      0.00      0.00         1\n",
      "         164       0.00      0.00      0.00         2\n",
      "          17       0.00      0.00      0.00         2\n",
      "         170       0.00      0.00      0.00         3\n",
      "         175       0.00      0.00      0.00         1\n",
      "         178       0.00      0.00      0.00         0\n",
      "          18       0.00      0.00      0.00         8\n",
      "         180       0.00      0.00      0.00         1\n",
      "        1818       0.00      0.00      0.00         0\n",
      "         182       0.00      0.00      0.00         1\n",
      "          19       0.00      0.00      0.00         2\n",
      "         191       0.00      0.00      0.00         0\n",
      "         192       0.00      0.00      0.00         0\n",
      "         193       0.00      0.00      0.00         1\n",
      "         195       0.00      0.00      0.00         2\n",
      "         199       0.00      0.00      0.00         0\n",
      "           2       0.17      0.21      0.19       603\n",
      "          20       0.00      0.00      0.00        25\n",
      "         200       0.00      0.00      0.00         2\n",
      "         201       0.00      0.00      0.00         1\n",
      "         203       0.00      0.00      0.00         1\n",
      "          21       0.00      0.00      0.00        10\n",
      "          22       0.00      0.00      0.00        23\n",
      "         220       0.00      0.00      0.00         1\n",
      "         224       0.00      0.00      0.00         1\n",
      "         225       0.00      0.00      0.00         2\n",
      "          23       0.00      0.00      0.00        19\n",
      "         237       0.00      0.00      0.00         1\n",
      "          24       0.06      0.05      0.06       115\n",
      "         240       0.00      0.00      0.00         1\n",
      "         243       0.00      0.00      0.00         1\n",
      "          25       0.02      0.02      0.02       104\n",
      "          26       0.09      0.08      0.09       310\n",
      "         260       0.00      0.00      0.00         1\n",
      "          27       0.00      0.00      0.00         8\n",
      "         276       0.00      0.00      0.00         1\n",
      "          28       0.00      0.00      0.00         5\n",
      "         283       0.00      0.00      0.00         1\n",
      "          29       0.00      0.00      0.00         7\n",
      "         291       0.00      0.00      0.00         0\n",
      "         296       0.00      0.00      0.00         2\n",
      "           3       0.06      0.07      0.07       278\n",
      "          30       0.00      0.00      0.00        12\n",
      "         305       0.00      0.00      0.00         1\n",
      "          31       0.00      0.00      0.00         6\n",
      "         312       0.00      0.00      0.00         2\n",
      "          32       0.00      0.00      0.00         8\n",
      "          33       0.00      0.00      0.00         6\n",
      "         331       0.00      0.00      0.00         1\n",
      "          34       0.00      0.00      0.00         9\n",
      "          35       0.00      0.00      0.00        12\n",
      "         358       0.00      0.00      0.00         0\n",
      "          36       0.00      0.00      0.00         4\n",
      "         365       0.00      0.00      0.00         1\n",
      "         366       0.00      0.00      0.00         1\n",
      "          37       0.00      0.00      0.00         7\n",
      "         373       0.00      0.00      0.00         0\n",
      "          38       0.00      0.00      0.00        12\n",
      "          39       0.02      0.02      0.02        60\n",
      "           4       0.04      0.05      0.05       186\n",
      "          40       0.00      0.00      0.00        11\n",
      "          41       0.00      0.00      0.00         6\n",
      "          42       0.00      0.00      0.00         5\n",
      "          43       0.00      0.00      0.00        11\n",
      "          44       0.00      0.00      0.00         4\n",
      "          45       0.00      0.00      0.00        11\n",
      "          46       0.00      0.00      0.00        11\n",
      "          47       0.00      0.00      0.00        16\n",
      "         475       0.00      0.00      0.00         1\n",
      "          48       0.17      0.04      0.07        23\n",
      "          49       0.00      0.00      0.00        21\n",
      "           5       0.01      0.01      0.01        75\n",
      "          50       0.03      0.02      0.02        52\n",
      "          51       0.03      0.03      0.03        61\n",
      "         510       0.00      0.00      0.00         1\n",
      "          52       0.04      0.05      0.04       104\n",
      "          53       0.00      0.00      0.00         4\n",
      "          54       0.00      0.00      0.00         4\n",
      "          55       0.00      0.00      0.00         1\n",
      "          56       0.00      0.00      0.00         2\n",
      "          58       0.00      0.00      0.00         2\n",
      "          59       0.00      0.00      0.00         4\n",
      "           6       0.04      0.04      0.04       158\n",
      "          60       0.00      0.00      0.00         6\n",
      "          61       0.00      0.00      0.00         5\n",
      "          62       0.00      0.00      0.00         0\n",
      "          63       0.00      0.00      0.00         3\n",
      "          64       0.00      0.00      0.00         3\n",
      "          65       0.00      0.00      0.00         7\n",
      "          66       0.00      0.00      0.00         1\n",
      "          67       0.00      0.00      0.00         1\n",
      "          68       0.00      0.00      0.00         0\n",
      "          69       0.00      0.00      0.00         1\n",
      "         694       0.00      0.00      0.00         1\n",
      "           7       0.00      0.00      0.00        44\n",
      "          70       0.00      0.00      0.00         2\n",
      "          71       0.00      0.00      0.00         0\n",
      "          72       0.00      0.00      0.00         3\n",
      "         726       0.00      0.00      0.00         1\n",
      "          73       0.00      0.00      0.00         5\n",
      "          74       0.00      0.00      0.00         4\n",
      "          75       0.00      0.00      0.00         5\n",
      "          76       0.00      0.00      0.00         3\n",
      "          77       0.00      0.00      0.00         3\n",
      "         773       0.00      0.00      0.00         1\n",
      "          78       0.00      0.00      0.00         6\n",
      "          79       0.00      0.00      0.00         1\n",
      "           8       0.00      0.00      0.00        37\n",
      "          80       0.00      0.00      0.00         2\n",
      "          83       0.00      0.00      0.00         1\n",
      "          84       0.00      0.00      0.00         2\n",
      "          86       0.00      0.00      0.00         1\n",
      "          87       0.00      0.00      0.00         1\n",
      "          88       0.00      0.00      0.00         1\n",
      "           9       0.00      0.00      0.00        27\n",
      "          90       0.00      0.00      0.00         1\n",
      "          91       0.00      0.00      0.00         1\n",
      "          92       0.00      0.00      0.00         0\n",
      "          93       0.00      0.00      0.00         1\n",
      "          94       0.00      0.00      0.00         2\n",
      "          95       0.00      0.00      0.00         1\n",
      "          96       0.00      0.00      0.00         2\n",
      "          97       0.00      0.00      0.00         2\n",
      "          98       0.00      0.00      0.00         1\n",
      "          99       0.00      0.00      0.00         2\n",
      "     Unknown       0.31      0.26      0.28       217\n",
      "\n",
      "    accuracy                           0.31      7377\n",
      "   macro avg       0.01      0.01      0.01      7377\n",
      "weighted avg       0.33      0.31      0.32      7377\n",
      "\n",
      "Матрица ошибок: \n",
      " [[1843   36    2 ...    0    0   76]\n",
      " [  36    2    0 ...    0    0    0]\n",
      " [   4    0    0 ...    0    0    0]\n",
      " ...\n",
      " [   0    0    0 ...    0    0    0]\n",
      " [   1    0    0 ...    0    0    0]\n",
      " [  96    6    0 ...    0    0   57]] \n",
      "\n"
     ]
    },
    {
     "data": {
      "image/png": "[encoded data removed]",
      "text/plain": [
       "<Figure size 432x288 with 2 Axes>"
      ]
     },
     "metadata": {},
     "output_type": "display_data"
    },
    {
     "name": "stdout",
     "output_type": "stream",
     "text": [
      "Средняя точность с масштабируемыми признаками:  0.29692888866833733\n"
     ]
    }
   ],
   "source": [
    "dtree_scaled = DecisionTreeClassifier(random_state=42)\n",
    "\n",
    "print_result(y_test=y_test, pred=dtree_scaled.fit(X_train_scaled, y_train).predict(X_test_scaled))\n",
    "score = cross_val_score(dtree_scaled, X_train_scaled, y_train, cv=5, scoring='accuracy')\n",
    "print('Средняя точность с масштабируемыми признаками: ', np.mean(score))"
   ]
  },
  {
   "cell_type": "markdown",
   "metadata": {
    "id": "E4ad-Xy5lzXG"
   },
   "source": [
    "## Этап 2. Бинарная классификация."
   ]
  },
  {
   "cell_type": "markdown",
   "metadata": {
    "id": "lX-LmBY-mFhN"
   },
   "source": [
    "### Загрузка данных."
   ]
  },
  {
   "cell_type": "code",
   "execution_count": 120,
   "metadata": {
    "id": "fwJK85mBmE82"
   },
   "outputs": [],
   "source": [
    "anime_data = pd.read_csv(anime)"
   ]
  },
  {
   "cell_type": "markdown",
   "metadata": {
    "id": "fsCvNWmomUTd"
   },
   "source": [
    "### Посмотрим на полученные данные."
   ]
  },
  {
   "cell_type": "code",
   "execution_count": 121,
   "metadata": {
    "colab": {
     "base_uri": "https://localhost:8080/",
     "height": 488
    },
    "id": "R3KVKQ4uma1I",
    "outputId": "3428d32e-9bf7-4af3-c5cc-db99beb032f2"
   },
   "outputs": [
    {
     "data": {
      "text/html": [
       "<div>\n",
       "<style scoped>\n",
       "    .dataframe tbody tr th:only-of-type {\n",
       "        vertical-align: middle;\n",
       "    }\n",
       "\n",
       "    .dataframe tbody tr th {\n",
       "        vertical-align: top;\n",
       "    }\n",
       "\n",
       "    .dataframe thead th {\n",
       "        text-align: right;\n",
       "    }\n",
       "</style>\n",
       "<table border=\"1\" class=\"dataframe\">\n",
       "  <thead>\n",
       "    <tr style=\"text-align: right;\">\n",
       "      <th></th>\n",
       "      <th>anime_id</th>\n",
       "      <th>name</th>\n",
       "      <th>genre</th>\n",
       "      <th>type</th>\n",
       "      <th>episodes</th>\n",
       "      <th>rating</th>\n",
       "      <th>members</th>\n",
       "    </tr>\n",
       "  </thead>\n",
       "  <tbody>\n",
       "    <tr>\n",
       "      <th>0</th>\n",
       "      <td>32281</td>\n",
       "      <td>Kimi no Na wa.</td>\n",
       "      <td>Drama, Romance, School, Supernatural</td>\n",
       "      <td>Movie</td>\n",
       "      <td>1</td>\n",
       "      <td>9.37</td>\n",
       "      <td>200630</td>\n",
       "    </tr>\n",
       "    <tr>\n",
       "      <th>1</th>\n",
       "      <td>5114</td>\n",
       "      <td>Fullmetal Alchemist: Brotherhood</td>\n",
       "      <td>Action, Adventure, Drama, Fantasy, Magic, Mili...</td>\n",
       "      <td>TV</td>\n",
       "      <td>64</td>\n",
       "      <td>9.26</td>\n",
       "      <td>793665</td>\n",
       "    </tr>\n",
       "    <tr>\n",
       "      <th>2</th>\n",
       "      <td>28977</td>\n",
       "      <td>Gintama°</td>\n",
       "      <td>Action, Comedy, Historical, Parody, Samurai, S...</td>\n",
       "      <td>TV</td>\n",
       "      <td>51</td>\n",
       "      <td>9.25</td>\n",
       "      <td>114262</td>\n",
       "    </tr>\n",
       "    <tr>\n",
       "      <th>3</th>\n",
       "      <td>9253</td>\n",
       "      <td>Steins;Gate</td>\n",
       "      <td>Sci-Fi, Thriller</td>\n",
       "      <td>TV</td>\n",
       "      <td>24</td>\n",
       "      <td>9.17</td>\n",
       "      <td>673572</td>\n",
       "    </tr>\n",
       "    <tr>\n",
       "      <th>4</th>\n",
       "      <td>9969</td>\n",
       "      <td>Gintama&amp;#039;</td>\n",
       "      <td>Action, Comedy, Historical, Parody, Samurai, S...</td>\n",
       "      <td>TV</td>\n",
       "      <td>51</td>\n",
       "      <td>9.16</td>\n",
       "      <td>151266</td>\n",
       "    </tr>\n",
       "    <tr>\n",
       "      <th>...</th>\n",
       "      <td>...</td>\n",
       "      <td>...</td>\n",
       "      <td>...</td>\n",
       "      <td>...</td>\n",
       "      <td>...</td>\n",
       "      <td>...</td>\n",
       "      <td>...</td>\n",
       "    </tr>\n",
       "    <tr>\n",
       "      <th>12289</th>\n",
       "      <td>9316</td>\n",
       "      <td>Toushindai My Lover: Minami tai Mecha-Minami</td>\n",
       "      <td>Hentai</td>\n",
       "      <td>OVA</td>\n",
       "      <td>1</td>\n",
       "      <td>4.15</td>\n",
       "      <td>211</td>\n",
       "    </tr>\n",
       "    <tr>\n",
       "      <th>12290</th>\n",
       "      <td>5543</td>\n",
       "      <td>Under World</td>\n",
       "      <td>Hentai</td>\n",
       "      <td>OVA</td>\n",
       "      <td>1</td>\n",
       "      <td>4.28</td>\n",
       "      <td>183</td>\n",
       "    </tr>\n",
       "    <tr>\n",
       "      <th>12291</th>\n",
       "      <td>5621</td>\n",
       "      <td>Violence Gekiga David no Hoshi</td>\n",
       "      <td>Hentai</td>\n",
       "      <td>OVA</td>\n",
       "      <td>4</td>\n",
       "      <td>4.88</td>\n",
       "      <td>219</td>\n",
       "    </tr>\n",
       "    <tr>\n",
       "      <th>12292</th>\n",
       "      <td>6133</td>\n",
       "      <td>Violence Gekiga Shin David no Hoshi: Inma Dens...</td>\n",
       "      <td>Hentai</td>\n",
       "      <td>OVA</td>\n",
       "      <td>1</td>\n",
       "      <td>4.98</td>\n",
       "      <td>175</td>\n",
       "    </tr>\n",
       "    <tr>\n",
       "      <th>12293</th>\n",
       "      <td>26081</td>\n",
       "      <td>Yasuji no Pornorama: Yacchimae!!</td>\n",
       "      <td>Hentai</td>\n",
       "      <td>Movie</td>\n",
       "      <td>1</td>\n",
       "      <td>5.46</td>\n",
       "      <td>142</td>\n",
       "    </tr>\n",
       "  </tbody>\n",
       "</table>\n",
       "<p>12294 rows × 7 columns</p>\n",
       "</div>"
      ],
      "text/plain": [
       "       anime_id                                               name  \\\n",
       "0         32281                                     Kimi no Na wa.   \n",
       "1          5114                   Fullmetal Alchemist: Brotherhood   \n",
       "2         28977                                           Gintama°   \n",
       "3          9253                                        Steins;Gate   \n",
       "4          9969                                      Gintama&#039;   \n",
       "...         ...                                                ...   \n",
       "12289      9316       Toushindai My Lover: Minami tai Mecha-Minami   \n",
       "12290      5543                                        Under World   \n",
       "12291      5621                     Violence Gekiga David no Hoshi   \n",
       "12292      6133  Violence Gekiga Shin David no Hoshi: Inma Dens...   \n",
       "12293     26081                   Yasuji no Pornorama: Yacchimae!!   \n",
       "\n",
       "                                                   genre   type episodes  \\\n",
       "0                   Drama, Romance, School, Supernatural  Movie        1   \n",
       "1      Action, Adventure, Drama, Fantasy, Magic, Mili...     TV       64   \n",
       "2      Action, Comedy, Historical, Parody, Samurai, S...     TV       51   \n",
       "3                                       Sci-Fi, Thriller     TV       24   \n",
       "4      Action, Comedy, Historical, Parody, Samurai, S...     TV       51   \n",
       "...                                                  ...    ...      ...   \n",
       "12289                                             Hentai    OVA        1   \n",
       "12290                                             Hentai    OVA        1   \n",
       "12291                                             Hentai    OVA        4   \n",
       "12292                                             Hentai    OVA        1   \n",
       "12293                                             Hentai  Movie        1   \n",
       "\n",
       "       rating  members  \n",
       "0        9.37   200630  \n",
       "1        9.26   793665  \n",
       "2        9.25   114262  \n",
       "3        9.17   673572  \n",
       "4        9.16   151266  \n",
       "...       ...      ...  \n",
       "12289    4.15      211  \n",
       "12290    4.28      183  \n",
       "12291    4.88      219  \n",
       "12292    4.98      175  \n",
       "12293    5.46      142  \n",
       "\n",
       "[12294 rows x 7 columns]"
      ]
     },
     "execution_count": 121,
     "metadata": {},
     "output_type": "execute_result"
    }
   ],
   "source": [
    "anime_data"
   ]
  },
  {
   "cell_type": "markdown",
   "metadata": {
    "id": "fnM0PLsRnsL8"
   },
   "source": [
    "#### Удаление полей, которые невозможно бинаризировать."
   ]
  },
  {
   "cell_type": "code",
   "execution_count": 122,
   "metadata": {
    "id": "wjPScuIAnqho"
   },
   "outputs": [],
   "source": [
    "anime_data.drop('name', axis=1, inplace=True)\n",
    "anime_data.drop('genre', axis=1, inplace=True)\n",
    "anime_data.drop('type', axis=1, inplace=True)\n",
    "anime_data.drop('episodes', axis=1, inplace=True)"
   ]
  },
  {
   "cell_type": "markdown",
   "metadata": {
    "id": "lx9Gzc8Kov1-"
   },
   "source": [
    "#### Бинаризация полей"
   ]
  },
  {
   "cell_type": "code",
   "execution_count": 123,
   "metadata": {
    "id": "ejP1wAOlowLG"
   },
   "outputs": [],
   "source": [
    "anime_data.loc[(anime_data.rating<=5),'rating']=0\n",
    "anime_data.loc[(anime_data.rating>5),'rating']=1\n",
    "anime_data.loc[(anime_data.members<=5000),'members']=0\n",
    "anime_data.loc[(anime_data.members>5000),'members']=1\n",
    "target = anime_data.members\n",
    "features = anime_data.drop(['rating'], axis=1)"
   ]
  },
  {
   "cell_type": "markdown",
   "metadata": {
    "id": "DsLggPU2pGy-"
   },
   "source": [
    "### Разделение данных на выборки."
   ]
  },
  {
   "cell_type": "code",
   "execution_count": 124,
   "metadata": {
    "colab": {
     "base_uri": "https://localhost:8080/",
     "height": 424
    },
    "id": "_SEkBlB-64pN",
    "outputId": "42967a83-fda0-4601-88fc-326effbded08"
   },
   "outputs": [
    {
     "data": {
      "text/html": [
       "<div>\n",
       "<style scoped>\n",
       "    .dataframe tbody tr th:only-of-type {\n",
       "        vertical-align: middle;\n",
       "    }\n",
       "\n",
       "    .dataframe tbody tr th {\n",
       "        vertical-align: top;\n",
       "    }\n",
       "\n",
       "    .dataframe thead th {\n",
       "        text-align: right;\n",
       "    }\n",
       "</style>\n",
       "<table border=\"1\" class=\"dataframe\">\n",
       "  <thead>\n",
       "    <tr style=\"text-align: right;\">\n",
       "      <th></th>\n",
       "      <th>anime_id</th>\n",
       "      <th>rating</th>\n",
       "      <th>members</th>\n",
       "    </tr>\n",
       "  </thead>\n",
       "  <tbody>\n",
       "    <tr>\n",
       "      <th>0</th>\n",
       "      <td>32281</td>\n",
       "      <td>1.0</td>\n",
       "      <td>1</td>\n",
       "    </tr>\n",
       "    <tr>\n",
       "      <th>1</th>\n",
       "      <td>5114</td>\n",
       "      <td>1.0</td>\n",
       "      <td>1</td>\n",
       "    </tr>\n",
       "    <tr>\n",
       "      <th>2</th>\n",
       "      <td>28977</td>\n",
       "      <td>1.0</td>\n",
       "      <td>1</td>\n",
       "    </tr>\n",
       "    <tr>\n",
       "      <th>3</th>\n",
       "      <td>9253</td>\n",
       "      <td>1.0</td>\n",
       "      <td>1</td>\n",
       "    </tr>\n",
       "    <tr>\n",
       "      <th>4</th>\n",
       "      <td>9969</td>\n",
       "      <td>1.0</td>\n",
       "      <td>1</td>\n",
       "    </tr>\n",
       "    <tr>\n",
       "      <th>...</th>\n",
       "      <td>...</td>\n",
       "      <td>...</td>\n",
       "      <td>...</td>\n",
       "    </tr>\n",
       "    <tr>\n",
       "      <th>12289</th>\n",
       "      <td>9316</td>\n",
       "      <td>0.0</td>\n",
       "      <td>0</td>\n",
       "    </tr>\n",
       "    <tr>\n",
       "      <th>12290</th>\n",
       "      <td>5543</td>\n",
       "      <td>0.0</td>\n",
       "      <td>0</td>\n",
       "    </tr>\n",
       "    <tr>\n",
       "      <th>12291</th>\n",
       "      <td>5621</td>\n",
       "      <td>0.0</td>\n",
       "      <td>0</td>\n",
       "    </tr>\n",
       "    <tr>\n",
       "      <th>12292</th>\n",
       "      <td>6133</td>\n",
       "      <td>0.0</td>\n",
       "      <td>0</td>\n",
       "    </tr>\n",
       "    <tr>\n",
       "      <th>12293</th>\n",
       "      <td>26081</td>\n",
       "      <td>1.0</td>\n",
       "      <td>0</td>\n",
       "    </tr>\n",
       "  </tbody>\n",
       "</table>\n",
       "<p>12294 rows × 3 columns</p>\n",
       "</div>"
      ],
      "text/plain": [
       "       anime_id  rating  members\n",
       "0         32281     1.0        1\n",
       "1          5114     1.0        1\n",
       "2         28977     1.0        1\n",
       "3          9253     1.0        1\n",
       "4          9969     1.0        1\n",
       "...         ...     ...      ...\n",
       "12289      9316     0.0        0\n",
       "12290      5543     0.0        0\n",
       "12291      5621     0.0        0\n",
       "12292      6133     0.0        0\n",
       "12293     26081     1.0        0\n",
       "\n",
       "[12294 rows x 3 columns]"
      ]
     },
     "execution_count": 124,
     "metadata": {},
     "output_type": "execute_result"
    }
   ],
   "source": [
    "anime_data"
   ]
  },
  {
   "cell_type": "code",
   "execution_count": 125,
   "metadata": {
    "id": "DFEGJJZ7pG-e"
   },
   "outputs": [],
   "source": [
    "X_train, X_test, y_train, y_test = train_test_split(features, target, test_size=0.3, random_state=42, shuffle=True)"
   ]
  },
  {
   "cell_type": "markdown",
   "metadata": {
    "id": "XAxAojzfpqcW"
   },
   "source": [
    "### Классификация без настройки параметров."
   ]
  },
  {
   "cell_type": "code",
   "execution_count": 126,
   "metadata": {
    "colab": {
     "base_uri": "https://localhost:8080/",
     "height": 512
    },
    "id": "q5CHurJ8pwlm",
    "outputId": "70e7f432-a192-4ad7-d12a-cb1fa19320e7"
   },
   "outputs": [
    {
     "name": "stdout",
     "output_type": "stream",
     "text": [
      "результат классификации: \n",
      "               precision    recall  f1-score   support\n",
      "\n",
      "           0       1.00      1.00      1.00      2469\n",
      "           1       1.00      1.00      1.00      1220\n",
      "\n",
      "    accuracy                           1.00      3689\n",
      "   macro avg       1.00      1.00      1.00      3689\n",
      "weighted avg       1.00      1.00      1.00      3689\n",
      "\n",
      "Матрица ошибок: \n",
      " [[2469    0]\n",
      " [   0 1220]] \n",
      "\n"
     ]
    },
    {
     "data": {
      "image/png": "[encoded data removed]",
      "text/plain": [
       "<Figure size 432x288 with 2 Axes>"
      ]
     },
     "metadata": {},
     "output_type": "display_data"
    }
   ],
   "source": [
    "from sklearn.linear_model import LogisticRegression\n",
    "\n",
    "lr = LogisticRegression(random_state=42, solver='newton-cg')\n",
    "lr.fit(X_train ,y_train)\n",
    "lr_pred = lr.predict(X_test)\n",
    "\n",
    "print_result(y_test=y_test, pred=lr_pred)"
   ]
  },
  {
   "cell_type": "markdown",
   "metadata": {
    "id": "a8Zu3vj_pwW2"
   },
   "source": [
    "#### Оценка точности"
   ]
  },
  {
   "cell_type": "code",
   "execution_count": 127,
   "metadata": {
    "colab": {
     "base_uri": "https://localhost:8080/"
    },
    "id": "-mMjPxWQqR1m",
    "outputId": "d72e3ea2-615d-4301-d28a-03b33416d937"
   },
   "outputs": [
    {
     "name": "stdout",
     "output_type": "stream",
     "text": [
      "Средняя оценка точности:  1.0\n"
     ]
    }
   ],
   "source": [
    "from sklearn.model_selection import cross_val_score\n",
    "\n",
    "scores = cross_val_score(lr, X_train, y_train, cv=5)\n",
    "print('Средняя оценка точности: ', np.mean(scores))"
   ]
  },
  {
   "cell_type": "markdown",
   "metadata": {
    "id": "qMGDU06r2qgz"
   },
   "source": [
    "### Классификация c настройкой параметров."
   ]
  },
  {
   "cell_type": "code",
   "execution_count": 128,
   "metadata": {
    "id": "wJ4eepYY3QKU"
   },
   "outputs": [],
   "source": [
    "from sklearn.metrics import accuracy_score\n",
    "\n",
    "penalties = ['l2', 'none']\n",
    "accuracy_result = []\n",
    "cv_result = []\n",
    "for penalty in penalties:\n",
    "  # для 'newton-cg' возможно испльзование только 'l2' или 'none' в качестве параметров\n",
    "  model = LogisticRegression(random_state=42, solver='newton-cg', penalty=penalty)\n",
    "  model.fit(X_train ,y_train)\n",
    "  model_pred = model.predict(X_test)\n",
    "  accuracy_result.append(accuracy_score(y_test, model_pred))\n",
    "  scores = cross_val_score(model, X_train, y_train, cv=5)\n",
    "  cv_result.append(np.mean(scores))"
   ]
  },
  {
   "cell_type": "code",
   "execution_count": 129,
   "metadata": {
    "colab": {
     "base_uri": "https://localhost:8080/",
     "height": 295
    },
    "id": "0unB_Aq33TvT",
    "outputId": "34391fef-7fe2-479f-ca11-e24706e5112e"
   },
   "outputs": [
    {
     "data": {
      "image/png": "[encoded data removed]",
      "text/plain": [
       "<Figure size 432x288 with 1 Axes>"
      ]
     },
     "metadata": {},
     "output_type": "display_data"
    }
   ],
   "source": [
    "plt.plot(penalties, accuracy_result, color='b', label='Accuracy')\n",
    "plt.plot(penalties, cv_result, color='r', label='CV accuracy')\n",
    "plt.title('Train-Test accuracy vs CV accuracy')\n",
    "plt.legend()\n",
    "plt.xlabel('penalties'); plt.ylabel('accuracy')\n",
    "plt.show()"
   ]
  },
  {
   "cell_type": "markdown",
   "metadata": {
    "id": "mC5upGVb3eH7"
   },
   "source": [
    "Точность по оценке train-test без регуляризации даёт лучший результат."
   ]
  },
  {
   "cell_type": "code",
   "execution_count": 130,
   "metadata": {
    "id": "UkKxNy363a-L"
   },
   "outputs": [],
   "source": [
    "accuracy_result_train, accuracy_result_test = [],[]\n",
    "for penalty in penalties:\n",
    "  model = LogisticRegression(random_state=42, solver='newton-cg', penalty=penalty)\n",
    "  model.fit(X_train ,y_train)\n",
    "  model_pred = model.predict(X_train)\n",
    "  accuracy_result_train.append(accuracy_score(y_train, model_pred))\n",
    "\n",
    "  model.fit(X_test ,y_test)\n",
    "  model_pred = model.predict(X_test)\n",
    "  accuracy_result_test.append(accuracy_score(y_test, model_pred))"
   ]
  },
  {
   "cell_type": "code",
   "execution_count": 131,
   "metadata": {
    "colab": {
     "base_uri": "https://localhost:8080/",
     "height": 295
    },
    "id": "3kZpFSfN3cRa",
    "outputId": "dc00ea82-b8f0-4fd2-e191-3c4e9e1e689d"
   },
   "outputs": [
    {
     "data": {
      "image/png": "[encoded data removed]",
      "text/plain": [
       "<Figure size 432x288 with 1 Axes>"
      ]
     },
     "metadata": {},
     "output_type": "display_data"
    }
   ],
   "source": [
    "plt.plot(penalties, accuracy_result_test, color='b', label='Test')\n",
    "plt.plot(penalties, accuracy_result_train, color='r', label='Train')\n",
    "plt.title('Train vs Test accuracy')\n",
    "plt.xlabel('penalties'); plt.ylabel('accuracy')\n",
    "plt.legend()\n",
    "plt.show()"
   ]
  },
  {
   "cell_type": "markdown",
   "metadata": {
    "id": "36fD8muj3hnz"
   },
   "source": [
    "### Масштабирование признаков"
   ]
  },
  {
   "cell_type": "code",
   "execution_count": 132,
   "metadata": {
    "id": "mIYlWBg53l84"
   },
   "outputs": [],
   "source": [
    "scaler = StandardScaler()\n",
    "X_train_scaled = scaler.fit_transform(X_train)\n",
    "X_test_scaled = scaler.transform(X_test)"
   ]
  },
  {
   "cell_type": "code",
   "execution_count": 133,
   "metadata": {
    "colab": {
     "base_uri": "https://localhost:8080/",
     "height": 512
    },
    "id": "S8SBx49g3nK6",
    "outputId": "6e70fa17-9a9d-4439-9886-d72b4695dcab"
   },
   "outputs": [
    {
     "name": "stdout",
     "output_type": "stream",
     "text": [
      "результат классификации: \n",
      "               precision    recall  f1-score   support\n",
      "\n",
      "           0       1.00      1.00      1.00      2469\n",
      "           1       1.00      1.00      1.00      1220\n",
      "\n",
      "    accuracy                           1.00      3689\n",
      "   macro avg       1.00      1.00      1.00      3689\n",
      "weighted avg       1.00      1.00      1.00      3689\n",
      "\n",
      "Матрица ошибок: \n",
      " [[2469    0]\n",
      " [   0 1220]] \n",
      "\n"
     ]
    },
    {
     "data": {
      "image/png": "[encoded data removed]",
      "text/plain": [
       "<Figure size 432x288 with 2 Axes>"
      ]
     },
     "metadata": {},
     "output_type": "display_data"
    }
   ],
   "source": [
    "lr = LogisticRegression(random_state=42, solver='newton-cg')\n",
    "lr.fit(X_train_scaled ,y_train)\n",
    "lr_pred = lr.predict(X_test_scaled)\n",
    "\n",
    "print_result(y_test=y_test, pred=lr_pred)"
   ]
  },
  {
   "cell_type": "code",
   "execution_count": 134,
   "metadata": {
    "colab": {
     "base_uri": "https://localhost:8080/"
    },
    "id": "xZ-rI6t73p6k",
    "outputId": "3181e1f1-3b97-471c-860b-ef1ae0453465"
   },
   "outputs": [
    {
     "name": "stdout",
     "output_type": "stream",
     "text": [
      "Средняя оценка точности:  1.0\n"
     ]
    }
   ],
   "source": [
    "scores = cross_val_score(lr, X_train_scaled, y_train, cv=5)\n",
    "print('Средняя оценка точности: ', np.mean(scores))"
   ]
  },
  {
   "cell_type": "markdown",
   "metadata": {
    "id": "CwkcUEIP3tzb"
   },
   "source": [
    "### Настройка гиперпараметров"
   ]
  },
  {
   "cell_type": "code",
   "execution_count": 135,
   "metadata": {
    "colab": {
     "base_uri": "https://localhost:8080/"
    },
    "id": "RVcS_uYu3sR7",
    "outputId": "a57b054a-698d-4ba0-9d80-d2f0053638a4"
   },
   "outputs": [
    {
     "name": "stdout",
     "output_type": "stream",
     "text": [
      "Fitting 5 folds for each of 200 candidates, totalling 1000 fits\n",
      "Best params for accuracy\n",
      "{'C': 0.0, 'penalty': 'none'}\n"
     ]
    }
   ],
   "source": [
    "params={\"C\":[*np.arange(0,1,0.01)], \"penalty\":[\"none\",\"l2\"]}\n",
    "do_grid_search(model=lr,  params=params, x_train=X_train, y_train=y_train, x_test=X_test)"
   ]
  },
  {
   "cell_type": "code",
   "execution_count": 136,
   "metadata": {
    "colab": {
     "base_uri": "https://localhost:8080/",
     "height": 1000
    },
    "id": "keSumU8o3xDT",
    "outputId": "cbd91ae9-7988-4bb9-9ece-2f654b5689fe"
   },
   "outputs": [
    {
     "name": "stdout",
     "output_type": "stream",
     "text": [
      "результат классификации: \n",
      "               precision    recall  f1-score   support\n",
      "\n",
      "           0       0.67      1.00      0.80      2469\n",
      "           1       0.00      0.00      0.00      1220\n",
      "\n",
      "    accuracy                           0.67      3689\n",
      "   macro avg       0.33      0.50      0.40      3689\n",
      "weighted avg       0.45      0.67      0.54      3689\n",
      "\n",
      "Матрица ошибок: \n",
      " [[2469    0]\n",
      " [1220    0]] \n",
      "\n"
     ]
    },
    {
     "data": {
      "image/png": "[encoded data removed]",
      "text/plain": [
       "<Figure size 432x288 with 2 Axes>"
      ]
     },
     "metadata": {},
     "output_type": "display_data"
    },
    {
     "name": "stdout",
     "output_type": "stream",
     "text": [
      "Средняя точность с настройкой гиперпараметров GridSearch:  0.7427077280650785\n"
     ]
    }
   ],
   "source": [
    "lr = LogisticRegression(C=.34,penalty=\"l2\")\n",
    "lr.fit(X_train,y_train)\n",
    "\n",
    "print_result(y_test=y_test, pred=lr.fit(X_train, y_train).predict(X_test))\n",
    "score = cross_val_score(lr, X_train, y_train, cv=5, scoring='accuracy')\n",
    "print('Средняя точность с настройкой гиперпараметров GridSearch: ', np.mean(score))"
   ]
  }
 ],
 "metadata": {
  "colab": {
   "name": "lab_3_classification_6133_Мелешенко.ipynb",
   "provenance": []
  },
  "kernelspec": {
   "display_name": "Python 3 (ipykernel)",
   "language": "python",
   "name": "python3"
  },
  "language_info": {
   "codemirror_mode": {
    "name": "ipython",
    "version": 3
   },
   "file_extension": ".py",
   "mimetype": "text/x-python",
   "name": "python",
   "nbconvert_exporter": "python",
   "pygments_lexer": "ipython3",
   "version": "3.9.6"
  }
 },
 "nbformat": 4,
 "nbformat_minor": 1
}
