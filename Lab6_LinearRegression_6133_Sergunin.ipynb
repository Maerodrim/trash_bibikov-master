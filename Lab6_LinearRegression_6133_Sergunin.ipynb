{
 "cells": [
  {
   "cell_type": "markdown",
   "id": "5e0bb639",
   "metadata": {},
   "source": [
    "# Лабораторная работа 6\n",
    "## Линейная Регрессия в sklearn\n",
    "## Выполнил: 6133-010302D, Сергунин Станислав Константинович"
   ]
  },
  {
   "cell_type": "markdown",
   "id": "ae7e9403",
   "metadata": {},
   "source": [
    "####  0. Найти и загрузить датасет, подходящий для задачи регрессии. \n",
    "\n",
    "Набор данных должен содержать не только числовые, но и категориальные/бинарные признаки. Опишите данные, что обозначает каждый столбец, какого типа (категориальный, вещественный, целочисленный, бинарный) данный столбец, при необходимости для категориальных в том числе бинарных признаков привести расшифровку их значений."
   ]
  },
  {
   "cell_type": "code",
   "execution_count": null,
   "id": "a7ebd491",
   "metadata": {},
   "outputs": [],
   "source": [
    "Имена столбцов говорят сами за себя(целочисленное количество эпизодов и подписчиков,имя и айди особо смысла не несут, жанр и тип категориальные,)"
   ]
  },
  {
   "cell_type": "code",
   "execution_count": 3,
   "id": "aa4426ee",
   "metadata": {},
   "outputs": [],
   "source": [
    "import numpy as np\n",
    "import pandas as pd"
   ]
  },
  {
   "cell_type": "code",
   "execution_count": 22,
   "id": "47921b5f",
   "metadata": {},
   "outputs": [],
   "source": [
    "anime = 'anime.csv'\n",
    "rating = 'rating.csv'\n",
    "df = pd.read_csv(anime)"
   ]
  },
  {
   "cell_type": "code",
   "execution_count": 23,
   "id": "5a1b9aba",
   "metadata": {},
   "outputs": [
    {
     "data": {
      "text/html": [
       "<div>\n",
       "<style scoped>\n",
       "    .dataframe tbody tr th:only-of-type {\n",
       "        vertical-align: middle;\n",
       "    }\n",
       "\n",
       "    .dataframe tbody tr th {\n",
       "        vertical-align: top;\n",
       "    }\n",
       "\n",
       "    .dataframe thead th {\n",
       "        text-align: right;\n",
       "    }\n",
       "</style>\n",
       "<table border=\"1\" class=\"dataframe\">\n",
       "  <thead>\n",
       "    <tr style=\"text-align: right;\">\n",
       "      <th></th>\n",
       "      <th>anime_id</th>\n",
       "      <th>name</th>\n",
       "      <th>genre</th>\n",
       "      <th>type</th>\n",
       "      <th>episodes</th>\n",
       "      <th>rating</th>\n",
       "      <th>members</th>\n",
       "    </tr>\n",
       "  </thead>\n",
       "  <tbody>\n",
       "    <tr>\n",
       "      <th>0</th>\n",
       "      <td>32281</td>\n",
       "      <td>Kimi no Na wa.</td>\n",
       "      <td>Drama, Romance, School, Supernatural</td>\n",
       "      <td>Movie</td>\n",
       "      <td>1</td>\n",
       "      <td>9.37</td>\n",
       "      <td>200630</td>\n",
       "    </tr>\n",
       "    <tr>\n",
       "      <th>1</th>\n",
       "      <td>5114</td>\n",
       "      <td>Fullmetal Alchemist: Brotherhood</td>\n",
       "      <td>Action, Adventure, Drama, Fantasy, Magic, Mili...</td>\n",
       "      <td>TV</td>\n",
       "      <td>64</td>\n",
       "      <td>9.26</td>\n",
       "      <td>793665</td>\n",
       "    </tr>\n",
       "    <tr>\n",
       "      <th>2</th>\n",
       "      <td>28977</td>\n",
       "      <td>Gintama°</td>\n",
       "      <td>Action, Comedy, Historical, Parody, Samurai, S...</td>\n",
       "      <td>TV</td>\n",
       "      <td>51</td>\n",
       "      <td>9.25</td>\n",
       "      <td>114262</td>\n",
       "    </tr>\n",
       "    <tr>\n",
       "      <th>3</th>\n",
       "      <td>9253</td>\n",
       "      <td>Steins;Gate</td>\n",
       "      <td>Sci-Fi, Thriller</td>\n",
       "      <td>TV</td>\n",
       "      <td>24</td>\n",
       "      <td>9.17</td>\n",
       "      <td>673572</td>\n",
       "    </tr>\n",
       "    <tr>\n",
       "      <th>4</th>\n",
       "      <td>9969</td>\n",
       "      <td>Gintama&amp;#039;</td>\n",
       "      <td>Action, Comedy, Historical, Parody, Samurai, S...</td>\n",
       "      <td>TV</td>\n",
       "      <td>51</td>\n",
       "      <td>9.16</td>\n",
       "      <td>151266</td>\n",
       "    </tr>\n",
       "    <tr>\n",
       "      <th>...</th>\n",
       "      <td>...</td>\n",
       "      <td>...</td>\n",
       "      <td>...</td>\n",
       "      <td>...</td>\n",
       "      <td>...</td>\n",
       "      <td>...</td>\n",
       "      <td>...</td>\n",
       "    </tr>\n",
       "    <tr>\n",
       "      <th>12289</th>\n",
       "      <td>9316</td>\n",
       "      <td>Toushindai My Lover: Minami tai Mecha-Minami</td>\n",
       "      <td>Hentai</td>\n",
       "      <td>OVA</td>\n",
       "      <td>1</td>\n",
       "      <td>4.15</td>\n",
       "      <td>211</td>\n",
       "    </tr>\n",
       "    <tr>\n",
       "      <th>12290</th>\n",
       "      <td>5543</td>\n",
       "      <td>Under World</td>\n",
       "      <td>Hentai</td>\n",
       "      <td>OVA</td>\n",
       "      <td>1</td>\n",
       "      <td>4.28</td>\n",
       "      <td>183</td>\n",
       "    </tr>\n",
       "    <tr>\n",
       "      <th>12291</th>\n",
       "      <td>5621</td>\n",
       "      <td>Violence Gekiga David no Hoshi</td>\n",
       "      <td>Hentai</td>\n",
       "      <td>OVA</td>\n",
       "      <td>4</td>\n",
       "      <td>4.88</td>\n",
       "      <td>219</td>\n",
       "    </tr>\n",
       "    <tr>\n",
       "      <th>12292</th>\n",
       "      <td>6133</td>\n",
       "      <td>Violence Gekiga Shin David no Hoshi: Inma Dens...</td>\n",
       "      <td>Hentai</td>\n",
       "      <td>OVA</td>\n",
       "      <td>1</td>\n",
       "      <td>4.98</td>\n",
       "      <td>175</td>\n",
       "    </tr>\n",
       "    <tr>\n",
       "      <th>12293</th>\n",
       "      <td>26081</td>\n",
       "      <td>Yasuji no Pornorama: Yacchimae!!</td>\n",
       "      <td>Hentai</td>\n",
       "      <td>Movie</td>\n",
       "      <td>1</td>\n",
       "      <td>5.46</td>\n",
       "      <td>142</td>\n",
       "    </tr>\n",
       "  </tbody>\n",
       "</table>\n",
       "<p>12294 rows × 7 columns</p>\n",
       "</div>"
      ],
      "text/plain": [
       "       anime_id                                               name  \\\n",
       "0         32281                                     Kimi no Na wa.   \n",
       "1          5114                   Fullmetal Alchemist: Brotherhood   \n",
       "2         28977                                           Gintama°   \n",
       "3          9253                                        Steins;Gate   \n",
       "4          9969                                      Gintama&#039;   \n",
       "...         ...                                                ...   \n",
       "12289      9316       Toushindai My Lover: Minami tai Mecha-Minami   \n",
       "12290      5543                                        Under World   \n",
       "12291      5621                     Violence Gekiga David no Hoshi   \n",
       "12292      6133  Violence Gekiga Shin David no Hoshi: Inma Dens...   \n",
       "12293     26081                   Yasuji no Pornorama: Yacchimae!!   \n",
       "\n",
       "                                                   genre   type episodes  \\\n",
       "0                   Drama, Romance, School, Supernatural  Movie        1   \n",
       "1      Action, Adventure, Drama, Fantasy, Magic, Mili...     TV       64   \n",
       "2      Action, Comedy, Historical, Parody, Samurai, S...     TV       51   \n",
       "3                                       Sci-Fi, Thriller     TV       24   \n",
       "4      Action, Comedy, Historical, Parody, Samurai, S...     TV       51   \n",
       "...                                                  ...    ...      ...   \n",
       "12289                                             Hentai    OVA        1   \n",
       "12290                                             Hentai    OVA        1   \n",
       "12291                                             Hentai    OVA        4   \n",
       "12292                                             Hentai    OVA        1   \n",
       "12293                                             Hentai  Movie        1   \n",
       "\n",
       "       rating  members  \n",
       "0        9.37   200630  \n",
       "1        9.26   793665  \n",
       "2        9.25   114262  \n",
       "3        9.17   673572  \n",
       "4        9.16   151266  \n",
       "...       ...      ...  \n",
       "12289    4.15      211  \n",
       "12290    4.28      183  \n",
       "12291    4.88      219  \n",
       "12292    4.98      175  \n",
       "12293    5.46      142  \n",
       "\n",
       "[12294 rows x 7 columns]"
      ]
     },
     "execution_count": 23,
     "metadata": {},
     "output_type": "execute_result"
    }
   ],
   "source": [
    "df"
   ]
  },
  {
   "cell_type": "markdown",
   "id": "02a66d97",
   "metadata": {},
   "source": [
    "#### 1. Временно удалить категориальные / бинарные признаки, оставив только вещественные"
   ]
  },
  {
   "cell_type": "code",
   "execution_count": 24,
   "id": "170cd8de",
   "metadata": {},
   "outputs": [
    {
     "data": {
      "text/html": [
       "<div>\n",
       "<style scoped>\n",
       "    .dataframe tbody tr th:only-of-type {\n",
       "        vertical-align: middle;\n",
       "    }\n",
       "\n",
       "    .dataframe tbody tr th {\n",
       "        vertical-align: top;\n",
       "    }\n",
       "\n",
       "    .dataframe thead th {\n",
       "        text-align: right;\n",
       "    }\n",
       "</style>\n",
       "<table border=\"1\" class=\"dataframe\">\n",
       "  <thead>\n",
       "    <tr style=\"text-align: right;\">\n",
       "      <th></th>\n",
       "      <th>episodes</th>\n",
       "      <th>rating</th>\n",
       "      <th>members</th>\n",
       "    </tr>\n",
       "  </thead>\n",
       "  <tbody>\n",
       "    <tr>\n",
       "      <th>0</th>\n",
       "      <td>1</td>\n",
       "      <td>9.37</td>\n",
       "      <td>200630</td>\n",
       "    </tr>\n",
       "    <tr>\n",
       "      <th>1</th>\n",
       "      <td>64</td>\n",
       "      <td>9.26</td>\n",
       "      <td>793665</td>\n",
       "    </tr>\n",
       "    <tr>\n",
       "      <th>2</th>\n",
       "      <td>51</td>\n",
       "      <td>9.25</td>\n",
       "      <td>114262</td>\n",
       "    </tr>\n",
       "    <tr>\n",
       "      <th>3</th>\n",
       "      <td>24</td>\n",
       "      <td>9.17</td>\n",
       "      <td>673572</td>\n",
       "    </tr>\n",
       "    <tr>\n",
       "      <th>4</th>\n",
       "      <td>51</td>\n",
       "      <td>9.16</td>\n",
       "      <td>151266</td>\n",
       "    </tr>\n",
       "  </tbody>\n",
       "</table>\n",
       "</div>"
      ],
      "text/plain": [
       "  episodes  rating  members\n",
       "0        1    9.37   200630\n",
       "1       64    9.26   793665\n",
       "2       51    9.25   114262\n",
       "3       24    9.17   673572\n",
       "4       51    9.16   151266"
      ]
     },
     "execution_count": 24,
     "metadata": {},
     "output_type": "execute_result"
    }
   ],
   "source": [
    "df = df.dropna(how='any',axis=0) \n",
    "df_new = df.drop(columns='name', axis=1)\n",
    "df_new = df_new.drop(columns='genre', axis=1)\n",
    "df_new = df_new.drop(columns='type', axis=1)\n",
    "df_new = df_new.drop(columns='anime_id', axis=1)\n",
    "df_new.head()"
   ]
  },
  {
   "cell_type": "markdown",
   "id": "b0f39c08",
   "metadata": {},
   "source": [
    "#### 2. Визуализировать heatmap-матрицу кореллированности признаков."
   ]
  },
  {
   "cell_type": "code",
   "execution_count": 25,
   "id": "348b3dc2",
   "metadata": {},
   "outputs": [],
   "source": [
    "import seaborn as sns"
   ]
  },
  {
   "cell_type": "code",
   "execution_count": 26,
   "id": "626abffe",
   "metadata": {},
   "outputs": [
    {
     "data": {
      "text/plain": [
       "<AxesSubplot:>"
      ]
     },
     "execution_count": 26,
     "metadata": {},
     "output_type": "execute_result"
    },
    {
     "data": {
      "image/png": "[encoded data removed]",
      "text/plain": [
       "<Figure size 432x288 with 2 Axes>"
      ]
     },
     "metadata": {
      "needs_background": "light"
     },
     "output_type": "display_data"
    }
   ],
   "source": [
    "sns.heatmap(df_new.corr(), cmap = \"mako\")"
   ]
  },
  {
   "cell_type": "markdown",
   "id": "a23f361a",
   "metadata": {},
   "source": [
    "#### 3. Визуализировать взаимосвязь между целевой переменной и каждым признаком "
   ]
  },
  {
   "cell_type": "code",
   "execution_count": 27,
   "id": "ed0e012c",
   "metadata": {},
   "outputs": [
    {
     "data": {
      "text/plain": [
       "<seaborn.axisgrid.PairGrid at 0x1bef0f8e460>"
      ]
     },
     "execution_count": 27,
     "metadata": {},
     "output_type": "execute_result"
    },
    {
     "data": {
      "image/png": "[encoded data removed]",
      "text/plain": [
       "<Figure size 217.75x180 with 2 Axes>"
      ]
     },
     "metadata": {
      "needs_background": "light"
     },
     "output_type": "display_data"
    }
   ],
   "source": [
    "sns.pairplot(df_new, hue = \"rating\")"
   ]
  },
  {
   "cell_type": "markdown",
   "id": "b9daff3e",
   "metadata": {},
   "source": [
    "#### 4. Разделить набор данных на обучающую и тестовую выборки"
   ]
  },
  {
   "cell_type": "code",
   "execution_count": 28,
   "id": "9f9b6809",
   "metadata": {},
   "outputs": [],
   "source": [
    "from sklearn.model_selection import train_test_split"
   ]
  },
  {
   "cell_type": "code",
   "execution_count": 39,
   "id": "69ce5933",
   "metadata": {},
   "outputs": [],
   "source": [
    "X = df_new.drop('rating', axis = 1)\n",
    "Y = df_new.rating\n",
    "X = X.apply(pd.to_numeric, errors='coerce')\n",
    "Y = Y.apply(pd.to_numeric, errors='coerce')\n",
    "X.fillna(0, inplace=True)\n",
    "Y.fillna(0, inplace=True)"
   ]
  },
  {
   "cell_type": "code",
   "execution_count": 40,
   "id": "8cf9a9bf",
   "metadata": {},
   "outputs": [],
   "source": [
    "X_train, X_test, Y_train, Y_test = train_test_split(X, Y, train_size = 0.75, random_state = 25)"
   ]
  },
  {
   "cell_type": "code",
   "execution_count": 41,
   "id": "bd9d06fc",
   "metadata": {},
   "outputs": [
    {
     "data": {
      "text/html": [
       "<div>\n",
       "<style scoped>\n",
       "    .dataframe tbody tr th:only-of-type {\n",
       "        vertical-align: middle;\n",
       "    }\n",
       "\n",
       "    .dataframe tbody tr th {\n",
       "        vertical-align: top;\n",
       "    }\n",
       "\n",
       "    .dataframe thead th {\n",
       "        text-align: right;\n",
       "    }\n",
       "</style>\n",
       "<table border=\"1\" class=\"dataframe\">\n",
       "  <thead>\n",
       "    <tr style=\"text-align: right;\">\n",
       "      <th></th>\n",
       "      <th>episodes</th>\n",
       "      <th>members</th>\n",
       "    </tr>\n",
       "  </thead>\n",
       "  <tbody>\n",
       "    <tr>\n",
       "      <th>11632</th>\n",
       "      <td>4.0</td>\n",
       "      <td>1760</td>\n",
       "    </tr>\n",
       "    <tr>\n",
       "      <th>7895</th>\n",
       "      <td>1.0</td>\n",
       "      <td>188</td>\n",
       "    </tr>\n",
       "    <tr>\n",
       "      <th>12174</th>\n",
       "      <td>2.0</td>\n",
       "      <td>4732</td>\n",
       "    </tr>\n",
       "    <tr>\n",
       "      <th>713</th>\n",
       "      <td>12.0</td>\n",
       "      <td>359011</td>\n",
       "    </tr>\n",
       "    <tr>\n",
       "      <th>6357</th>\n",
       "      <td>2.0</td>\n",
       "      <td>16436</td>\n",
       "    </tr>\n",
       "    <tr>\n",
       "      <th>...</th>\n",
       "      <td>...</td>\n",
       "      <td>...</td>\n",
       "    </tr>\n",
       "    <tr>\n",
       "      <th>8471</th>\n",
       "      <td>1.0</td>\n",
       "      <td>121</td>\n",
       "    </tr>\n",
       "    <tr>\n",
       "      <th>2935</th>\n",
       "      <td>37.0</td>\n",
       "      <td>883</td>\n",
       "    </tr>\n",
       "    <tr>\n",
       "      <th>10428</th>\n",
       "      <td>2.0</td>\n",
       "      <td>72</td>\n",
       "    </tr>\n",
       "    <tr>\n",
       "      <th>6621</th>\n",
       "      <td>12.0</td>\n",
       "      <td>24338</td>\n",
       "    </tr>\n",
       "    <tr>\n",
       "      <th>8534</th>\n",
       "      <td>1.0</td>\n",
       "      <td>115</td>\n",
       "    </tr>\n",
       "  </tbody>\n",
       "</table>\n",
       "<p>9012 rows × 2 columns</p>\n",
       "</div>"
      ],
      "text/plain": [
       "       episodes  members\n",
       "11632       4.0     1760\n",
       "7895        1.0      188\n",
       "12174       2.0     4732\n",
       "713        12.0   359011\n",
       "6357        2.0    16436\n",
       "...         ...      ...\n",
       "8471        1.0      121\n",
       "2935       37.0      883\n",
       "10428       2.0       72\n",
       "6621       12.0    24338\n",
       "8534        1.0      115\n",
       "\n",
       "[9012 rows x 2 columns]"
      ]
     },
     "execution_count": 41,
     "metadata": {},
     "output_type": "execute_result"
    }
   ],
   "source": [
    "X_train"
   ]
  },
  {
   "cell_type": "markdown",
   "id": "32e76da0",
   "metadata": {},
   "source": [
    "#### 5. Линейная регрессия"
   ]
  },
  {
   "cell_type": "code",
   "execution_count": 42,
   "id": "551bb261",
   "metadata": {},
   "outputs": [],
   "source": [
    "from sklearn.linear_model import LinearRegression"
   ]
  },
  {
   "cell_type": "markdown",
   "id": "b2893dbf",
   "metadata": {},
   "source": [
    "##### 5.1 Обучить модель линейной регрессии (LinearRegression)"
   ]
  },
  {
   "cell_type": "code",
   "execution_count": 43,
   "id": "359d5f8b",
   "metadata": {},
   "outputs": [],
   "source": [
    "# обучение модели\n",
    "model_regress = LinearRegression()\n",
    "model_regress.fit(X_train, Y_train)\n",
    "pred_train = model_regress.predict(X_train)\n",
    "pred_test = model_regress.predict(X_test)"
   ]
  },
  {
   "cell_type": "markdown",
   "id": "253fe22b",
   "metadata": {},
   "source": [
    "##### 5.2 Вывести метрики MAE, MSE и R2 на обущающем и тестовом наборе\n"
   ]
  },
  {
   "cell_type": "code",
   "execution_count": 44,
   "id": "dc155e6d",
   "metadata": {},
   "outputs": [],
   "source": [
    "from sklearn.metrics import mean_absolute_error, mean_squared_error, r2_score"
   ]
  },
  {
   "cell_type": "code",
   "execution_count": 45,
   "id": "3dfd7364",
   "metadata": {},
   "outputs": [],
   "source": [
    "def metrics(pred_model, Y_data):\n",
    "    mae = mean_absolute_error(Y_data, pred_model)\n",
    "    mse = mean_squared_error(Y_data, pred_model)\n",
    "    r2 = r2_score(Y_data, pred_model)\n",
    "    print('MAE: ', mae)\n",
    "    print('MSE: ', mse)\n",
    "    print('R2: ', r2)"
   ]
  },
  {
   "cell_type": "code",
   "execution_count": 46,
   "id": "c0f66276",
   "metadata": {},
   "outputs": [
    {
     "name": "stdout",
     "output_type": "stream",
     "text": [
      "метрики на обущающем наборе\n",
      "MAE:  0.721365053880221\n",
      "MSE:  0.875027185990157\n",
      "R2:  0.15593665835122117\n"
     ]
    }
   ],
   "source": [
    "print('метрики на обущающем наборе')\n",
    "metrics(pred_train, Y_train)"
   ]
  },
  {
   "cell_type": "code",
   "execution_count": 47,
   "id": "004bdd7d",
   "metadata": {},
   "outputs": [
    {
     "name": "stdout",
     "output_type": "stream",
     "text": [
      "метрики на тестовом наборе\n",
      "MAE:  0.737373031801669\n",
      "MSE:  0.916825748359158\n",
      "R2:  0.15291799320516009\n"
     ]
    }
   ],
   "source": [
    "print('метрики на тестовом наборе')\n",
    "metrics(pred_test, Y_test)"
   ]
  },
  {
   "cell_type": "markdown",
   "id": "3077cfe5",
   "metadata": {},
   "source": [
    "##### 5.3 Вывести model.coef_ и model.intercept_"
   ]
  },
  {
   "cell_type": "code",
   "execution_count": 48,
   "id": "5d00fa52",
   "metadata": {},
   "outputs": [],
   "source": [
    "def intercept_coef(model):\n",
    "    importance = model_regress.coef_\n",
    "    print('coef: ', importance)\n",
    "    intercept = model_regress.intercept_\n",
    "    print('intercept: ', intercept)\n",
    "    "
   ]
  },
  {
   "cell_type": "code",
   "execution_count": 49,
   "id": "c0bcb166",
   "metadata": {},
   "outputs": [
    {
     "name": "stdout",
     "output_type": "stream",
     "text": [
      "coef:  [1.61774791e-03 7.31967092e-06]\n",
      "intercept:  6.321469333720918\n"
     ]
    }
   ],
   "source": [
    "intercept_coef(model_regress)"
   ]
  },
  {
   "cell_type": "markdown",
   "id": "cec41f6e",
   "metadata": {},
   "source": [
    "##### 5.4 Построить график (barh) с важностью коэфициентов при соответствующих признаках \n",
    "\n",
    "Желательно, чтобы сверху вниз шли коэффициенты по убыванию, а названия соответствующих признаков подписаны по вертикальной оси."
   ]
  },
  {
   "cell_type": "code",
   "execution_count": 50,
   "id": "cb4588c3",
   "metadata": {},
   "outputs": [],
   "source": [
    "def barh_plot(model, X_data):\n",
    "    attribute = X_data.columns.values\n",
    "    importance = model.coef_\n",
    "    list1 = np.vstack([importance, attribute]).T\n",
    "    list2 = pd.DataFrame(data = {'importance': importance, 'attribute': X_data.columns, }).sort_values(by = 'importance')\n",
    "    print(list2)\n",
    "    sns.barplot(data = list2, y = 'attribute', x = 'importance')\n",
    "    "
   ]
  },
  {
   "cell_type": "code",
   "execution_count": 51,
   "id": "6bfee915",
   "metadata": {},
   "outputs": [
    {
     "name": "stdout",
     "output_type": "stream",
     "text": [
      "   importance attribute\n",
      "1    0.000007   members\n",
      "0    0.001618  episodes\n"
     ]
    },
    {
     "data": {
      "image/png": "[encoded data removed]",
      "text/plain": [
       "<Figure size 432x288 with 1 Axes>"
      ]
     },
     "metadata": {
      "needs_background": "light"
     },
     "output_type": "display_data"
    }
   ],
   "source": [
    "barh_plot(model_regress, X_train)"
   ]
  },
  {
   "cell_type": "markdown",
   "id": "d074461d",
   "metadata": {},
   "source": [
    "#### 6. Модель Lasso"
   ]
  },
  {
   "cell_type": "code",
   "execution_count": 52,
   "id": "1c2f7121",
   "metadata": {},
   "outputs": [],
   "source": [
    "from sklearn.linear_model import Lasso"
   ]
  },
  {
   "cell_type": "markdown",
   "id": "6eb67005",
   "metadata": {},
   "source": [
    "##### 6.1 Обучить модель регрессии (Lasso), с помощью GridSearchCV подобрать параметр alpha, дальше работаем с лучшей моделью"
   ]
  },
  {
   "cell_type": "code",
   "execution_count": 53,
   "id": "65e61736",
   "metadata": {},
   "outputs": [],
   "source": [
    "from sklearn.model_selection import GridSearchCV"
   ]
  },
  {
   "cell_type": "code",
   "execution_count": 54,
   "id": "84d51694",
   "metadata": {},
   "outputs": [
    {
     "name": "stdout",
     "output_type": "stream",
     "text": [
      "{'alpha': 0.48000000000000004}\n"
     ]
    }
   ],
   "source": [
    "model_lasso = Lasso()\n",
    "\n",
    "# подбираем параметры\n",
    "parametrs = {\"alpha\": np.arange(0.01, 100, 0.01)}\n",
    "model_lasso = GridSearchCV(model_lasso, parametrs, refit = True)\n",
    "model_lasso.fit(X_train, Y_train)\n",
    "\n",
    "print(model_lasso.best_params_)"
   ]
  },
  {
   "cell_type": "code",
   "execution_count": 55,
   "id": "f5611c3a",
   "metadata": {},
   "outputs": [],
   "source": [
    "# обучение модели\n",
    "model_lasso = Lasso(alpha = 0.01)\n",
    "model_lasso.fit(X_train, Y_train)\n",
    "pred_lasso_train = model_lasso.predict(X_train)\n",
    "pred_lasso_test = model_lasso.predict(X_test)"
   ]
  },
  {
   "cell_type": "markdown",
   "id": "f0cee2e9",
   "metadata": {},
   "source": [
    "##### 6.2 Для лучшей модели вывести метрики MAE, MSE и R2 на обущающем и тестовом наборе"
   ]
  },
  {
   "cell_type": "code",
   "execution_count": 56,
   "id": "6955422f",
   "metadata": {},
   "outputs": [
    {
     "name": "stdout",
     "output_type": "stream",
     "text": [
      "метрики на обущающем наборе\n",
      "MAE:  0.7213721927646265\n",
      "MSE:  0.8750272372230666\n",
      "R2:  0.15593660893124694\n"
     ]
    }
   ],
   "source": [
    "print('метрики на обущающем наборе')\n",
    "metrics(pred_lasso_train, Y_train)"
   ]
  },
  {
   "cell_type": "code",
   "execution_count": 57,
   "id": "768fb3da",
   "metadata": {},
   "outputs": [
    {
     "name": "stdout",
     "output_type": "stream",
     "text": [
      "метрики на тестовом наборе\n",
      "MAE:  0.7373745105325332\n",
      "MSE:  0.9168126491466079\n",
      "R2:  0.15293009594908302\n"
     ]
    }
   ],
   "source": [
    "print('метрики на тестовом наборе')\n",
    "metrics(pred_lasso_test, Y_test)"
   ]
  },
  {
   "cell_type": "markdown",
   "id": "62c17eda",
   "metadata": {},
   "source": [
    "##### 6.3 Для лучшей модели вывести model.coef_ и model.intercept_"
   ]
  },
  {
   "cell_type": "code",
   "execution_count": 58,
   "id": "88537299",
   "metadata": {},
   "outputs": [
    {
     "name": "stdout",
     "output_type": "stream",
     "text": [
      "coef:  [1.61774791e-03 7.31967092e-06]\n",
      "intercept:  6.321469333720918\n"
     ]
    }
   ],
   "source": [
    "intercept_coef(model_lasso)"
   ]
  },
  {
   "cell_type": "markdown",
   "id": "477973cf",
   "metadata": {},
   "source": [
    "##### 6.4 Для лучшей модели построить график (barh) с важностью коэфициентов при соответствующих признаках"
   ]
  },
  {
   "cell_type": "code",
   "execution_count": 59,
   "id": "74769216",
   "metadata": {},
   "outputs": [
    {
     "name": "stdout",
     "output_type": "stream",
     "text": [
      "   importance attribute\n",
      "1    0.000007   members\n",
      "0    0.001613  episodes\n"
     ]
    },
    {
     "data": {
      "image/png": "[encoded data removed]",
      "text/plain": [
       "<Figure size 432x288 with 1 Axes>"
      ]
     },
     "metadata": {
      "needs_background": "light"
     },
     "output_type": "display_data"
    }
   ],
   "source": [
    "barh_plot(model_lasso, X_train)"
   ]
  },
  {
   "cell_type": "markdown",
   "id": "cd8d9aad",
   "metadata": {},
   "source": [
    "#### 7. Модель Ridge"
   ]
  },
  {
   "cell_type": "code",
   "execution_count": 60,
   "id": "66ca5caf",
   "metadata": {},
   "outputs": [],
   "source": [
    "from sklearn.linear_model import Ridge"
   ]
  },
  {
   "cell_type": "markdown",
   "id": "44799c11",
   "metadata": {},
   "source": [
    "##### 7.1 Обучить модель регрессии (Ridge), с помощью GridSearchCV подобрать параметр alpha, дальше работаем с лучшей моделью"
   ]
  },
  {
   "cell_type": "code",
   "execution_count": 61,
   "id": "b9335a9a",
   "metadata": {},
   "outputs": [
    {
     "name": "stdout",
     "output_type": "stream",
     "text": [
      "{'alpha': 99.99000000000001}\n"
     ]
    }
   ],
   "source": [
    "model_ridge = Ridge()\n",
    "\n",
    "# подбираем параметры\n",
    "parametrs = {\"alpha\": np.arange(0.01, 100, 0.01)}\n",
    "model_ridge = GridSearchCV(model_ridge, parametrs, refit = True)\n",
    "model_ridge.fit(X_train, Y_train)\n",
    "\n",
    "print(model_ridge.best_params_)"
   ]
  },
  {
   "cell_type": "code",
   "execution_count": 62,
   "id": "70e88ccb",
   "metadata": {},
   "outputs": [],
   "source": [
    "# обучение модели\n",
    "model_ridge = Ridge(alpha = 0.04)\n",
    "model_ridge.fit(X_train, Y_train)\n",
    "pred_ridge_train = model_ridge.predict(X_train)\n",
    "pred_ridge_test = model_ridge.predict(X_test)"
   ]
  },
  {
   "cell_type": "markdown",
   "id": "634f5b6f",
   "metadata": {},
   "source": [
    "##### 7.2 Для лучшей модели вывести метрики MAE, MSE и R2 на обущающем и тестовом наборе"
   ]
  },
  {
   "cell_type": "code",
   "execution_count": 63,
   "id": "fc896f86",
   "metadata": {},
   "outputs": [
    {
     "name": "stdout",
     "output_type": "stream",
     "text": [
      "метрики на обущающем наборе\n",
      "MAE:  0.7213650538853225\n",
      "MSE:  0.8750271859901569\n",
      "R2:  0.15593665835122128\n"
     ]
    }
   ],
   "source": [
    "print('метрики на обущающем наборе')\n",
    "metrics(pred_ridge_train, Y_train)"
   ]
  },
  {
   "cell_type": "code",
   "execution_count": 64,
   "id": "651d5da0",
   "metadata": {},
   "outputs": [
    {
     "name": "stdout",
     "output_type": "stream",
     "text": [
      "метрики на тестовом наборе\n",
      "MAE:  0.7373730318027298\n",
      "MSE:  0.9168257483497108\n",
      "R2:  0.15291799321388866\n"
     ]
    }
   ],
   "source": [
    "print('метрики на тестовом наборе')\n",
    "metrics(pred_ridge_test, Y_test)"
   ]
  },
  {
   "cell_type": "markdown",
   "id": "501e1795",
   "metadata": {},
   "source": [
    "##### 7.3 Для лучшей модели вывести model.coef и model.intercept"
   ]
  },
  {
   "cell_type": "code",
   "execution_count": 65,
   "id": "110b8f53",
   "metadata": {},
   "outputs": [
    {
     "name": "stdout",
     "output_type": "stream",
     "text": [
      "coef:  [1.61774791e-03 7.31967092e-06]\n",
      "intercept:  6.321469333720918\n"
     ]
    }
   ],
   "source": [
    "intercept_coef(model_ridge)"
   ]
  },
  {
   "cell_type": "markdown",
   "id": "49115906",
   "metadata": {},
   "source": [
    "##### 7.4 Для лучшей модели построить график (barh) с важностью коэфициентов при соответствующих признаках"
   ]
  },
  {
   "cell_type": "code",
   "execution_count": 66,
   "id": "eef44d5e",
   "metadata": {},
   "outputs": [
    {
     "name": "stdout",
     "output_type": "stream",
     "text": [
      "   importance attribute\n",
      "1    0.000007   members\n",
      "0    0.001618  episodes\n"
     ]
    },
    {
     "data": {
      "image/png": "[encoded data removed]",
      "text/plain": [
       "<Figure size 432x288 with 1 Axes>"
      ]
     },
     "metadata": {
      "needs_background": "light"
     },
     "output_type": "display_data"
    }
   ],
   "source": [
    "barh_plot(model_ridge, X_train)"
   ]
  },
  {
   "cell_type": "markdown",
   "id": "f7306935",
   "metadata": {},
   "source": [
    "#### 8. Модель ElasticNet"
   ]
  },
  {
   "cell_type": "code",
   "execution_count": 67,
   "id": "3768e2e6",
   "metadata": {},
   "outputs": [],
   "source": [
    "from sklearn.linear_model import ElasticNet"
   ]
  },
  {
   "cell_type": "markdown",
   "id": "367431c2",
   "metadata": {},
   "source": [
    "##### 8.1 Обучить модель регрессии (ElasticNet), с помощью GridSearchCV подобрать параметры alpha и l1_ratio (в пределах 0:1), дальше работаем с лучшей моделью"
   ]
  },
  {
   "cell_type": "code",
   "execution_count": 68,
   "id": "25f490b7",
   "metadata": {},
   "outputs": [
    {
     "name": "stdout",
     "output_type": "stream",
     "text": [
      "{'alpha': 0.98, 'l1_ratio': 0.49}\n"
     ]
    }
   ],
   "source": [
    "model_elastic = ElasticNet()\n",
    "\n",
    "# подбираем параметры\n",
    "parametrs = {\"alpha\": np.arange(0.01, 1, 0.01), \"l1_ratio\": np.arange(0.01, 1, 0.01)}\n",
    "\n",
    "model_elastic = GridSearchCV(model_elastic, parametrs, refit = True)\n",
    "model_elastic.fit(X_train, Y_train)\n",
    "\n",
    "print(model_elastic.best_params_)"
   ]
  },
  {
   "cell_type": "code",
   "execution_count": 69,
   "id": "b9c38976",
   "metadata": {},
   "outputs": [],
   "source": [
    "# обучение модели\n",
    "model_elastic = ElasticNet(alpha = 0.01, l1_ratio = 0.99)\n",
    "model_elastic.fit(X_train, Y_train)\n",
    "pred_elastic_train = model_elastic.predict(X_train)\n",
    "pred_elastic_test = model_elastic.predict(X_test)"
   ]
  },
  {
   "cell_type": "markdown",
   "id": "7fdcf57c",
   "metadata": {},
   "source": [
    "##### 8.2 Для лучшей модели вывести метрики MAE, MSE и R2 на обущающем и тестовом наборе"
   ]
  },
  {
   "cell_type": "code",
   "execution_count": 70,
   "id": "ac5fe46e",
   "metadata": {},
   "outputs": [
    {
     "name": "stdout",
     "output_type": "stream",
     "text": [
      "метрики на обущающем наборе\n",
      "MAE:  0.7213721213901506\n",
      "MSE:  0.8750272362051625\n",
      "R2:  0.1559366099131314\n"
     ]
    }
   ],
   "source": [
    "print('метрики на обущающем наборе')\n",
    "metrics(pred_elastic_train, Y_train)"
   ]
  },
  {
   "cell_type": "code",
   "execution_count": 71,
   "id": "488fffb9",
   "metadata": {},
   "outputs": [
    {
     "name": "stdout",
     "output_type": "stream",
     "text": [
      "метрики на тестовом наборе\n",
      "MAE:  0.7373744957689737\n",
      "MSE:  0.916812779186123\n",
      "R2:  0.15292997580178824\n"
     ]
    }
   ],
   "source": [
    "print('метрики на тестовом наборе')\n",
    "metrics(pred_elastic_test, Y_test)"
   ]
  },
  {
   "cell_type": "markdown",
   "id": "b7118298",
   "metadata": {},
   "source": [
    "##### 8.3 Для лучшей модели вывести model.coef и model.intercept"
   ]
  },
  {
   "cell_type": "code",
   "execution_count": 72,
   "id": "e259a780",
   "metadata": {},
   "outputs": [
    {
     "name": "stdout",
     "output_type": "stream",
     "text": [
      "coef:  [1.61774791e-03 7.31967092e-06]\n",
      "intercept:  6.321469333720918\n"
     ]
    }
   ],
   "source": [
    "intercept_coef(model_elastic)"
   ]
  },
  {
   "cell_type": "markdown",
   "id": "af18683b",
   "metadata": {},
   "source": [
    "##### 8.4 Для лучшей модели построить график (barh) с важностью коэфициентов при соответствующих признаках"
   ]
  },
  {
   "cell_type": "code",
   "execution_count": 73,
   "id": "a5aa7441",
   "metadata": {},
   "outputs": [
    {
     "name": "stdout",
     "output_type": "stream",
     "text": [
      "   importance attribute\n",
      "1    0.000007   members\n",
      "0    0.001613  episodes\n"
     ]
    },
    {
     "data": {
      "image/png": "[encoded data removed]",
      "text/plain": [
       "<Figure size 432x288 with 1 Axes>"
      ]
     },
     "metadata": {
      "needs_background": "light"
     },
     "output_type": "display_data"
    }
   ],
   "source": [
    "barh_plot(model_elastic, X_train)"
   ]
  },
  {
   "cell_type": "markdown",
   "id": "2d4bf2a0",
   "metadata": {},
   "source": [
    "#### 9. Возвращаем категориальные / бинарные признаки на место в датасет.\n",
    "\n",
    "Категориальные признаки преобразуем в набор бинарных через pd.get_dummies( ..., drop_first = True ). Обучаем лучшую модель."
   ]
  },
  {
   "cell_type": "code",
   "execution_count": 74,
   "id": "fc316491",
   "metadata": {},
   "outputs": [],
   "source": [
    "from pandas import get_dummies"
   ]
  },
  {
   "cell_type": "code",
   "execution_count": 77,
   "id": "69a28d71",
   "metadata": {},
   "outputs": [
    {
     "data": {
      "text/html": [
       "<div>\n",
       "<style scoped>\n",
       "    .dataframe tbody tr th:only-of-type {\n",
       "        vertical-align: middle;\n",
       "    }\n",
       "\n",
       "    .dataframe tbody tr th {\n",
       "        vertical-align: top;\n",
       "    }\n",
       "\n",
       "    .dataframe thead th {\n",
       "        text-align: right;\n",
       "    }\n",
       "</style>\n",
       "<table border=\"1\" class=\"dataframe\">\n",
       "  <thead>\n",
       "    <tr style=\"text-align: right;\">\n",
       "      <th></th>\n",
       "      <th>anime_id</th>\n",
       "      <th>members</th>\n",
       "      <th>name_&amp;quot;Aesop&amp;quot; no Ohanashi yori: Ushi to Kaeru, Yokubatta Inu</th>\n",
       "      <th>name_&amp;quot;Bungaku Shoujo&amp;quot; Kyou no Oyatsu: Hatsukoi</th>\n",
       "      <th>name_&amp;quot;Bungaku Shoujo&amp;quot; Memoire</th>\n",
       "      <th>name_&amp;quot;Bungaku Shoujo&amp;quot; Movie</th>\n",
       "      <th>name_&amp;quot;Eiji&amp;quot;</th>\n",
       "      <th>name_&amp;quot;Eiyuu&amp;quot; Kaitai</th>\n",
       "      <th>name_.hack//G.U. Returner</th>\n",
       "      <th>name_.hack//G.U. Trilogy</th>\n",
       "      <th>...</th>\n",
       "      <th>episodes_91</th>\n",
       "      <th>episodes_92</th>\n",
       "      <th>episodes_93</th>\n",
       "      <th>episodes_94</th>\n",
       "      <th>episodes_95</th>\n",
       "      <th>episodes_96</th>\n",
       "      <th>episodes_97</th>\n",
       "      <th>episodes_98</th>\n",
       "      <th>episodes_99</th>\n",
       "      <th>episodes_Unknown</th>\n",
       "    </tr>\n",
       "  </thead>\n",
       "  <tbody>\n",
       "    <tr>\n",
       "      <th>0</th>\n",
       "      <td>32281</td>\n",
       "      <td>200630</td>\n",
       "      <td>0</td>\n",
       "      <td>0</td>\n",
       "      <td>0</td>\n",
       "      <td>0</td>\n",
       "      <td>0</td>\n",
       "      <td>0</td>\n",
       "      <td>0</td>\n",
       "      <td>0</td>\n",
       "      <td>...</td>\n",
       "      <td>0</td>\n",
       "      <td>0</td>\n",
       "      <td>0</td>\n",
       "      <td>0</td>\n",
       "      <td>0</td>\n",
       "      <td>0</td>\n",
       "      <td>0</td>\n",
       "      <td>0</td>\n",
       "      <td>0</td>\n",
       "      <td>0</td>\n",
       "    </tr>\n",
       "    <tr>\n",
       "      <th>1</th>\n",
       "      <td>5114</td>\n",
       "      <td>793665</td>\n",
       "      <td>0</td>\n",
       "      <td>0</td>\n",
       "      <td>0</td>\n",
       "      <td>0</td>\n",
       "      <td>0</td>\n",
       "      <td>0</td>\n",
       "      <td>0</td>\n",
       "      <td>0</td>\n",
       "      <td>...</td>\n",
       "      <td>0</td>\n",
       "      <td>0</td>\n",
       "      <td>0</td>\n",
       "      <td>0</td>\n",
       "      <td>0</td>\n",
       "      <td>0</td>\n",
       "      <td>0</td>\n",
       "      <td>0</td>\n",
       "      <td>0</td>\n",
       "      <td>0</td>\n",
       "    </tr>\n",
       "    <tr>\n",
       "      <th>2</th>\n",
       "      <td>28977</td>\n",
       "      <td>114262</td>\n",
       "      <td>0</td>\n",
       "      <td>0</td>\n",
       "      <td>0</td>\n",
       "      <td>0</td>\n",
       "      <td>0</td>\n",
       "      <td>0</td>\n",
       "      <td>0</td>\n",
       "      <td>0</td>\n",
       "      <td>...</td>\n",
       "      <td>0</td>\n",
       "      <td>0</td>\n",
       "      <td>0</td>\n",
       "      <td>0</td>\n",
       "      <td>0</td>\n",
       "      <td>0</td>\n",
       "      <td>0</td>\n",
       "      <td>0</td>\n",
       "      <td>0</td>\n",
       "      <td>0</td>\n",
       "    </tr>\n",
       "    <tr>\n",
       "      <th>3</th>\n",
       "      <td>9253</td>\n",
       "      <td>673572</td>\n",
       "      <td>0</td>\n",
       "      <td>0</td>\n",
       "      <td>0</td>\n",
       "      <td>0</td>\n",
       "      <td>0</td>\n",
       "      <td>0</td>\n",
       "      <td>0</td>\n",
       "      <td>0</td>\n",
       "      <td>...</td>\n",
       "      <td>0</td>\n",
       "      <td>0</td>\n",
       "      <td>0</td>\n",
       "      <td>0</td>\n",
       "      <td>0</td>\n",
       "      <td>0</td>\n",
       "      <td>0</td>\n",
       "      <td>0</td>\n",
       "      <td>0</td>\n",
       "      <td>0</td>\n",
       "    </tr>\n",
       "    <tr>\n",
       "      <th>4</th>\n",
       "      <td>9969</td>\n",
       "      <td>151266</td>\n",
       "      <td>0</td>\n",
       "      <td>0</td>\n",
       "      <td>0</td>\n",
       "      <td>0</td>\n",
       "      <td>0</td>\n",
       "      <td>0</td>\n",
       "      <td>0</td>\n",
       "      <td>0</td>\n",
       "      <td>...</td>\n",
       "      <td>0</td>\n",
       "      <td>0</td>\n",
       "      <td>0</td>\n",
       "      <td>0</td>\n",
       "      <td>0</td>\n",
       "      <td>0</td>\n",
       "      <td>0</td>\n",
       "      <td>0</td>\n",
       "      <td>0</td>\n",
       "      <td>0</td>\n",
       "    </tr>\n",
       "  </tbody>\n",
       "</table>\n",
       "<p>5 rows × 15435 columns</p>\n",
       "</div>"
      ],
      "text/plain": [
       "   anime_id  members  \\\n",
       "0     32281   200630   \n",
       "1      5114   793665   \n",
       "2     28977   114262   \n",
       "3      9253   673572   \n",
       "4      9969   151266   \n",
       "\n",
       "   name_&quot;Aesop&quot; no Ohanashi yori: Ushi to Kaeru, Yokubatta Inu  \\\n",
       "0                                                  0                       \n",
       "1                                                  0                       \n",
       "2                                                  0                       \n",
       "3                                                  0                       \n",
       "4                                                  0                       \n",
       "\n",
       "   name_&quot;Bungaku Shoujo&quot; Kyou no Oyatsu: Hatsukoi  \\\n",
       "0                                                  0          \n",
       "1                                                  0          \n",
       "2                                                  0          \n",
       "3                                                  0          \n",
       "4                                                  0          \n",
       "\n",
       "   name_&quot;Bungaku Shoujo&quot; Memoire  \\\n",
       "0                                        0   \n",
       "1                                        0   \n",
       "2                                        0   \n",
       "3                                        0   \n",
       "4                                        0   \n",
       "\n",
       "   name_&quot;Bungaku Shoujo&quot; Movie  name_&quot;Eiji&quot;  \\\n",
       "0                                      0                      0   \n",
       "1                                      0                      0   \n",
       "2                                      0                      0   \n",
       "3                                      0                      0   \n",
       "4                                      0                      0   \n",
       "\n",
       "   name_&quot;Eiyuu&quot; Kaitai  name_.hack//G.U. Returner  \\\n",
       "0                              0                          0   \n",
       "1                              0                          0   \n",
       "2                              0                          0   \n",
       "3                              0                          0   \n",
       "4                              0                          0   \n",
       "\n",
       "   name_.hack//G.U. Trilogy  ...  episodes_91  episodes_92  episodes_93  \\\n",
       "0                         0  ...            0            0            0   \n",
       "1                         0  ...            0            0            0   \n",
       "2                         0  ...            0            0            0   \n",
       "3                         0  ...            0            0            0   \n",
       "4                         0  ...            0            0            0   \n",
       "\n",
       "   episodes_94  episodes_95  episodes_96  episodes_97  episodes_98  \\\n",
       "0            0            0            0            0            0   \n",
       "1            0            0            0            0            0   \n",
       "2            0            0            0            0            0   \n",
       "3            0            0            0            0            0   \n",
       "4            0            0            0            0            0   \n",
       "\n",
       "   episodes_99  episodes_Unknown  \n",
       "0            0                 0  \n",
       "1            0                 0  \n",
       "2            0                 0  \n",
       "3            0                 0  \n",
       "4            0                 0  \n",
       "\n",
       "[5 rows x 15435 columns]"
      ]
     },
     "execution_count": 77,
     "metadata": {},
     "output_type": "execute_result"
    }
   ],
   "source": [
    "df = df.dropna(how='any',axis=0) \n",
    "df_full = get_dummies(df, drop_first = True)\n",
    "df_full.drop(columns = 'rating', inplace = True)\n",
    "df_full.head()"
   ]
  },
  {
   "cell_type": "code",
   "execution_count": 78,
   "id": "5498011a",
   "metadata": {},
   "outputs": [],
   "source": [
    "X = df_full.drop('members', axis = 1)\n",
    "#Y = df_new.Rings\n",
    "X_train, X_test, Y_train, Y_test = train_test_split(X, Y, train_size = 0.75, random_state = 25)"
   ]
  },
  {
   "cell_type": "code",
   "execution_count": 79,
   "id": "232aff57",
   "metadata": {},
   "outputs": [],
   "source": [
    "model_best = Lasso(alpha = 0.01)\n",
    "model_best.fit(X_train, Y_train)\n",
    "pred_best_test = model_best.predict(X_test)"
   ]
  },
  {
   "cell_type": "markdown",
   "id": "9612f8fd",
   "metadata": {},
   "source": [
    "#### 10. Как изменились метрики MAE и MSE на тестовом наборе, вывести их и сделать выводы"
   ]
  },
  {
   "cell_type": "code",
   "execution_count": 80,
   "id": "9b513472",
   "metadata": {},
   "outputs": [
    {
     "name": "stdout",
     "output_type": "stream",
     "text": [
      "метрики на тестовом наборе\n",
      "MAE:  0.7275914132051446\n",
      "MSE:  0.870778531145648\n",
      "R2:  0.19546235807967027\n"
     ]
    }
   ],
   "source": [
    "print('метрики на тестовом наборе')\n",
    "metrics(pred_best_test, Y_test)"
   ]
  },
  {
   "cell_type": "markdown",
   "id": "de271fb0",
   "metadata": {},
   "source": [
    "Значения метрик MAE и MSE улучшились, но незначительно "
   ]
  },
  {
   "cell_type": "markdown",
   "id": "16d61b02",
   "metadata": {},
   "source": [
    "#### 11. Прогоняем датасет, который уже обогащён бинарными признаками, через StandardScaler, обучаем найденную на предыдущих шагах лучшую модель. \n",
    "\n",
    "Как изменились MAE, MSE и R2 на тестовом наборе, вывести метрики и сделать выводы."
   ]
  },
  {
   "cell_type": "code",
   "execution_count": 81,
   "id": "45e5ebc4",
   "metadata": {},
   "outputs": [],
   "source": [
    "from sklearn.preprocessing import StandardScaler"
   ]
  },
  {
   "cell_type": "code",
   "execution_count": 82,
   "id": "14cef778",
   "metadata": {},
   "outputs": [],
   "source": [
    "scaler = StandardScaler()\n",
    "X_new_train = scaler.fit_transform(X_train)\n",
    "X_new_test = scaler.fit_transform(X_test)"
   ]
  },
  {
   "cell_type": "code",
   "execution_count": 83,
   "id": "1984956f",
   "metadata": {},
   "outputs": [
    {
     "name": "stdout",
     "output_type": "stream",
     "text": [
      "метрики на тестовом наборе\n",
      "MAE:  0.6733975468803539\n",
      "MSE:  0.7595987882682897\n",
      "R2:  0.2981845600684756\n"
     ]
    }
   ],
   "source": [
    "model_scaler = Lasso(alpha = 0.01)\n",
    "model_scaler.fit(X_new_train, Y_train)\n",
    "pred_scaler_test = model_scaler.predict(X_new_test)\n",
    "\n",
    "print('метрики на тестовом наборе')\n",
    "metrics(pred_scaler_test, Y_test)"
   ]
  },
  {
   "cell_type": "markdown",
   "id": "8ce2498a",
   "metadata": {},
   "source": [
    "Значение метрики R2 стало меньше. Значение метрики MAE незначительно улучшилось. MSE напротив увеличилось"
   ]
  },
  {
   "cell_type": "markdown",
   "id": "0921a049",
   "metadata": {},
   "source": [
    "#### 13. Построить график (barh) с важностью коэфициентов при соответствующих признаках для задания 12"
   ]
  },
  {
   "cell_type": "code",
   "execution_count": 84,
   "id": "8a483c52",
   "metadata": {},
   "outputs": [
    {
     "data": {
      "text/html": [
       "<div>\n",
       "<style scoped>\n",
       "    .dataframe tbody tr th:only-of-type {\n",
       "        vertical-align: middle;\n",
       "    }\n",
       "\n",
       "    .dataframe tbody tr th {\n",
       "        vertical-align: top;\n",
       "    }\n",
       "\n",
       "    .dataframe thead th {\n",
       "        text-align: right;\n",
       "    }\n",
       "</style>\n",
       "<table border=\"1\" class=\"dataframe\">\n",
       "  <thead>\n",
       "    <tr style=\"text-align: right;\">\n",
       "      <th></th>\n",
       "      <th>anime_id</th>\n",
       "      <th>name_&amp;quot;Aesop&amp;quot; no Ohanashi yori: Ushi to Kaeru, Yokubatta Inu</th>\n",
       "      <th>name_&amp;quot;Bungaku Shoujo&amp;quot; Kyou no Oyatsu: Hatsukoi</th>\n",
       "      <th>name_&amp;quot;Bungaku Shoujo&amp;quot; Memoire</th>\n",
       "      <th>name_&amp;quot;Bungaku Shoujo&amp;quot; Movie</th>\n",
       "      <th>name_&amp;quot;Eiji&amp;quot;</th>\n",
       "      <th>name_&amp;quot;Eiyuu&amp;quot; Kaitai</th>\n",
       "      <th>name_.hack//G.U. Returner</th>\n",
       "      <th>name_.hack//G.U. Trilogy</th>\n",
       "      <th>name_.hack//G.U. Trilogy: Parody Mode</th>\n",
       "      <th>...</th>\n",
       "      <th>episodes_91</th>\n",
       "      <th>episodes_92</th>\n",
       "      <th>episodes_93</th>\n",
       "      <th>episodes_94</th>\n",
       "      <th>episodes_95</th>\n",
       "      <th>episodes_96</th>\n",
       "      <th>episodes_97</th>\n",
       "      <th>episodes_98</th>\n",
       "      <th>episodes_99</th>\n",
       "      <th>episodes_Unknown</th>\n",
       "    </tr>\n",
       "  </thead>\n",
       "  <tbody>\n",
       "    <tr>\n",
       "      <th>0</th>\n",
       "      <td>-1.095498</td>\n",
       "      <td>-0.010534</td>\n",
       "      <td>-0.010534</td>\n",
       "      <td>-0.010534</td>\n",
       "      <td>0.0</td>\n",
       "      <td>-0.010534</td>\n",
       "      <td>-0.010534</td>\n",
       "      <td>-0.010534</td>\n",
       "      <td>0.0</td>\n",
       "      <td>-0.010534</td>\n",
       "      <td>...</td>\n",
       "      <td>-0.010534</td>\n",
       "      <td>-0.010534</td>\n",
       "      <td>-0.010534</td>\n",
       "      <td>-0.014899</td>\n",
       "      <td>-0.014899</td>\n",
       "      <td>-0.021072</td>\n",
       "      <td>-0.018248</td>\n",
       "      <td>0.0</td>\n",
       "      <td>-0.010534</td>\n",
       "      <td>-0.126979</td>\n",
       "    </tr>\n",
       "    <tr>\n",
       "      <th>1</th>\n",
       "      <td>1.465727</td>\n",
       "      <td>-0.010534</td>\n",
       "      <td>-0.010534</td>\n",
       "      <td>-0.010534</td>\n",
       "      <td>0.0</td>\n",
       "      <td>-0.010534</td>\n",
       "      <td>-0.010534</td>\n",
       "      <td>-0.010534</td>\n",
       "      <td>0.0</td>\n",
       "      <td>-0.010534</td>\n",
       "      <td>...</td>\n",
       "      <td>-0.010534</td>\n",
       "      <td>-0.010534</td>\n",
       "      <td>-0.010534</td>\n",
       "      <td>-0.014899</td>\n",
       "      <td>-0.014899</td>\n",
       "      <td>-0.021072</td>\n",
       "      <td>-0.018248</td>\n",
       "      <td>0.0</td>\n",
       "      <td>-0.010534</td>\n",
       "      <td>-0.126979</td>\n",
       "    </tr>\n",
       "    <tr>\n",
       "      <th>2</th>\n",
       "      <td>-0.999490</td>\n",
       "      <td>-0.010534</td>\n",
       "      <td>-0.010534</td>\n",
       "      <td>-0.010534</td>\n",
       "      <td>0.0</td>\n",
       "      <td>-0.010534</td>\n",
       "      <td>-0.010534</td>\n",
       "      <td>-0.010534</td>\n",
       "      <td>0.0</td>\n",
       "      <td>-0.010534</td>\n",
       "      <td>...</td>\n",
       "      <td>-0.010534</td>\n",
       "      <td>-0.010534</td>\n",
       "      <td>-0.010534</td>\n",
       "      <td>-0.014899</td>\n",
       "      <td>-0.014899</td>\n",
       "      <td>-0.021072</td>\n",
       "      <td>-0.018248</td>\n",
       "      <td>0.0</td>\n",
       "      <td>-0.010534</td>\n",
       "      <td>-0.126979</td>\n",
       "    </tr>\n",
       "    <tr>\n",
       "      <th>3</th>\n",
       "      <td>0.411961</td>\n",
       "      <td>-0.010534</td>\n",
       "      <td>-0.010534</td>\n",
       "      <td>-0.010534</td>\n",
       "      <td>0.0</td>\n",
       "      <td>-0.010534</td>\n",
       "      <td>-0.010534</td>\n",
       "      <td>-0.010534</td>\n",
       "      <td>0.0</td>\n",
       "      <td>-0.010534</td>\n",
       "      <td>...</td>\n",
       "      <td>-0.010534</td>\n",
       "      <td>-0.010534</td>\n",
       "      <td>-0.010534</td>\n",
       "      <td>-0.014899</td>\n",
       "      <td>-0.014899</td>\n",
       "      <td>-0.021072</td>\n",
       "      <td>-0.018248</td>\n",
       "      <td>0.0</td>\n",
       "      <td>-0.010534</td>\n",
       "      <td>-0.126979</td>\n",
       "    </tr>\n",
       "    <tr>\n",
       "      <th>4</th>\n",
       "      <td>-1.045127</td>\n",
       "      <td>-0.010534</td>\n",
       "      <td>-0.010534</td>\n",
       "      <td>-0.010534</td>\n",
       "      <td>0.0</td>\n",
       "      <td>-0.010534</td>\n",
       "      <td>-0.010534</td>\n",
       "      <td>-0.010534</td>\n",
       "      <td>0.0</td>\n",
       "      <td>-0.010534</td>\n",
       "      <td>...</td>\n",
       "      <td>-0.010534</td>\n",
       "      <td>-0.010534</td>\n",
       "      <td>-0.010534</td>\n",
       "      <td>-0.014899</td>\n",
       "      <td>-0.014899</td>\n",
       "      <td>-0.021072</td>\n",
       "      <td>-0.018248</td>\n",
       "      <td>0.0</td>\n",
       "      <td>-0.010534</td>\n",
       "      <td>-0.126979</td>\n",
       "    </tr>\n",
       "  </tbody>\n",
       "</table>\n",
       "<p>5 rows × 15434 columns</p>\n",
       "</div>"
      ],
      "text/plain": [
       "   anime_id  \\\n",
       "0 -1.095498   \n",
       "1  1.465727   \n",
       "2 -0.999490   \n",
       "3  0.411961   \n",
       "4 -1.045127   \n",
       "\n",
       "   name_&quot;Aesop&quot; no Ohanashi yori: Ushi to Kaeru, Yokubatta Inu  \\\n",
       "0                                          -0.010534                       \n",
       "1                                          -0.010534                       \n",
       "2                                          -0.010534                       \n",
       "3                                          -0.010534                       \n",
       "4                                          -0.010534                       \n",
       "\n",
       "   name_&quot;Bungaku Shoujo&quot; Kyou no Oyatsu: Hatsukoi  \\\n",
       "0                                          -0.010534          \n",
       "1                                          -0.010534          \n",
       "2                                          -0.010534          \n",
       "3                                          -0.010534          \n",
       "4                                          -0.010534          \n",
       "\n",
       "   name_&quot;Bungaku Shoujo&quot; Memoire  \\\n",
       "0                                -0.010534   \n",
       "1                                -0.010534   \n",
       "2                                -0.010534   \n",
       "3                                -0.010534   \n",
       "4                                -0.010534   \n",
       "\n",
       "   name_&quot;Bungaku Shoujo&quot; Movie  name_&quot;Eiji&quot;  \\\n",
       "0                                    0.0              -0.010534   \n",
       "1                                    0.0              -0.010534   \n",
       "2                                    0.0              -0.010534   \n",
       "3                                    0.0              -0.010534   \n",
       "4                                    0.0              -0.010534   \n",
       "\n",
       "   name_&quot;Eiyuu&quot; Kaitai  name_.hack//G.U. Returner  \\\n",
       "0                      -0.010534                  -0.010534   \n",
       "1                      -0.010534                  -0.010534   \n",
       "2                      -0.010534                  -0.010534   \n",
       "3                      -0.010534                  -0.010534   \n",
       "4                      -0.010534                  -0.010534   \n",
       "\n",
       "   name_.hack//G.U. Trilogy  name_.hack//G.U. Trilogy: Parody Mode  ...  \\\n",
       "0                       0.0                              -0.010534  ...   \n",
       "1                       0.0                              -0.010534  ...   \n",
       "2                       0.0                              -0.010534  ...   \n",
       "3                       0.0                              -0.010534  ...   \n",
       "4                       0.0                              -0.010534  ...   \n",
       "\n",
       "   episodes_91  episodes_92  episodes_93  episodes_94  episodes_95  \\\n",
       "0    -0.010534    -0.010534    -0.010534    -0.014899    -0.014899   \n",
       "1    -0.010534    -0.010534    -0.010534    -0.014899    -0.014899   \n",
       "2    -0.010534    -0.010534    -0.010534    -0.014899    -0.014899   \n",
       "3    -0.010534    -0.010534    -0.010534    -0.014899    -0.014899   \n",
       "4    -0.010534    -0.010534    -0.010534    -0.014899    -0.014899   \n",
       "\n",
       "   episodes_96  episodes_97  episodes_98  episodes_99  episodes_Unknown  \n",
       "0    -0.021072    -0.018248          0.0    -0.010534         -0.126979  \n",
       "1    -0.021072    -0.018248          0.0    -0.010534         -0.126979  \n",
       "2    -0.021072    -0.018248          0.0    -0.010534         -0.126979  \n",
       "3    -0.021072    -0.018248          0.0    -0.010534         -0.126979  \n",
       "4    -0.021072    -0.018248          0.0    -0.010534         -0.126979  \n",
       "\n",
       "[5 rows x 15434 columns]"
      ]
     },
     "execution_count": 84,
     "metadata": {},
     "output_type": "execute_result"
    }
   ],
   "source": [
    "X_scaler = pd.DataFrame(X_new_train, columns = X_train.columns)\n",
    "X_scaler.head()"
   ]
  },
  {
   "cell_type": "code",
   "execution_count": 85,
   "id": "b790a619",
   "metadata": {},
   "outputs": [
    {
     "name": "stdout",
     "output_type": "stream",
     "text": [
      "       importance                                          attribute\n",
      "14350   -0.174206                                     genre_Dementia\n",
      "0       -0.134763                                           anime_id\n",
      "15243   -0.117512                                         type_Music\n",
      "13672   -0.112974                                       genre_Comedy\n",
      "15244   -0.111797                                           type_ONA\n",
      "...           ...                                                ...\n",
      "15334    0.034727                                        episodes_25\n",
      "13823    0.036279               genre_Comedy, Drama, Shounen, Sports\n",
      "12541    0.042712  genre_Action, Comedy, Historical, Parody, Samu...\n",
      "13374    0.054622  genre_Adventure, Comedy, Mystery, Police, Shounen\n",
      "15247    0.138262                                            type_TV\n",
      "\n",
      "[15434 rows x 2 columns]\n"
     ]
    },
    {
     "name": "stderr",
     "output_type": "stream",
     "text": [
      "C:\\Users\\stass\\mambaforge\\lib\\site-packages\\matplotlib\\backends\\backend_agg.py:240: RuntimeWarning: Glyph 65290 missing from current font.\n",
      "  font.set_text(s, 0.0, flags=flags)\n",
      "C:\\Users\\stass\\mambaforge\\lib\\site-packages\\matplotlib\\backends\\backend_agg.py:203: RuntimeWarning: Glyph 65290 missing from current font.\n",
      "  font.set_text(s, 0, flags=flags)\n"
     ]
    },
    {
     "data": {
      "image/png": "[encoded data removed]",
      "text/plain": [
       "<Figure size 432x288 with 1 Axes>"
      ]
     },
     "metadata": {
      "needs_background": "light"
     },
     "output_type": "display_data"
    }
   ],
   "source": [
    "barh_plot(model_scaler, X_scaler)"
   ]
  },
  {
   "cell_type": "code",
   "execution_count": null,
   "id": "b8797f6a",
   "metadata": {},
   "outputs": [],
   "source": []
  }
 ],
 "metadata": {
  "kernelspec": {
   "display_name": "Python 3 (ipykernel)",
   "language": "python",
   "name": "python3"
  },
  "language_info": {
   "codemirror_mode": {
    "name": "ipython",
    "version": 3
   },
   "file_extension": ".py",
   "mimetype": "text/x-python",
   "name": "python",
   "nbconvert_exporter": "python",
   "pygments_lexer": "ipython3",
   "version": "3.9.6"
  }
 },
 "nbformat": 4,
 "nbformat_minor": 5
}
